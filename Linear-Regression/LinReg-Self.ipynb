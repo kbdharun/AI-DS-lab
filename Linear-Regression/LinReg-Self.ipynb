{
 "cells": [
  {
   "cell_type": "code",
   "execution_count": 1,
   "id": "530a28be-2605-4d2b-b69a-e21ba6989633",
   "metadata": {
    "tags": []
   },
   "outputs": [],
   "source": [
    "dict1={'X':[2000,4800,3100,2821,1828,700], 'Y':[25000,42000,30000,20000,18000,15000]}"
   ]
  },
  {
   "cell_type": "code",
   "execution_count": 3,
   "id": "2b640704-252a-46b6-ab77-f305003f5b91",
   "metadata": {
    "tags": []
   },
   "outputs": [],
   "source": [
    "import pandas as pd\n",
    "import numpy as np\n",
    "import seaborn as sns"
   ]
  },
  {
   "cell_type": "code",
   "execution_count": 4,
   "id": "8d03ea2e-fedd-41d4-9136-3cfdbade8518",
   "metadata": {
    "tags": []
   },
   "outputs": [],
   "source": [
    "data=pd.DataFrame(dict1)"
   ]
  },
  {
   "cell_type": "code",
   "execution_count": 5,
   "id": "e1ec338c-7b38-405d-aa31-c3559e6b0bda",
   "metadata": {
    "tags": []
   },
   "outputs": [
    {
     "data": {
      "text/html": [
       "<div>\n",
       "<style scoped>\n",
       "    .dataframe tbody tr th:only-of-type {\n",
       "        vertical-align: middle;\n",
       "    }\n",
       "\n",
       "    .dataframe tbody tr th {\n",
       "        vertical-align: top;\n",
       "    }\n",
       "\n",
       "    .dataframe thead th {\n",
       "        text-align: right;\n",
       "    }\n",
       "</style>\n",
       "<table border=\"1\" class=\"dataframe\">\n",
       "  <thead>\n",
       "    <tr style=\"text-align: right;\">\n",
       "      <th></th>\n",
       "      <th>X</th>\n",
       "      <th>Y</th>\n",
       "    </tr>\n",
       "  </thead>\n",
       "  <tbody>\n",
       "    <tr>\n",
       "      <th>0</th>\n",
       "      <td>2000</td>\n",
       "      <td>25000</td>\n",
       "    </tr>\n",
       "    <tr>\n",
       "      <th>1</th>\n",
       "      <td>4800</td>\n",
       "      <td>42000</td>\n",
       "    </tr>\n",
       "    <tr>\n",
       "      <th>2</th>\n",
       "      <td>3100</td>\n",
       "      <td>30000</td>\n",
       "    </tr>\n",
       "    <tr>\n",
       "      <th>3</th>\n",
       "      <td>2821</td>\n",
       "      <td>20000</td>\n",
       "    </tr>\n",
       "    <tr>\n",
       "      <th>4</th>\n",
       "      <td>1828</td>\n",
       "      <td>18000</td>\n",
       "    </tr>\n",
       "    <tr>\n",
       "      <th>5</th>\n",
       "      <td>700</td>\n",
       "      <td>15000</td>\n",
       "    </tr>\n",
       "  </tbody>\n",
       "</table>\n",
       "</div>"
      ],
      "text/plain": [
       "      X      Y\n",
       "0  2000  25000\n",
       "1  4800  42000\n",
       "2  3100  30000\n",
       "3  2821  20000\n",
       "4  1828  18000\n",
       "5   700  15000"
      ]
     },
     "execution_count": 5,
     "metadata": {},
     "output_type": "execute_result"
    }
   ],
   "source": [
    "data"
   ]
  },
  {
   "cell_type": "code",
   "execution_count": 7,
   "id": "c19a0e4d-2f08-4cbf-93b2-fe83f725fc92",
   "metadata": {
    "tags": []
   },
   "outputs": [
    {
     "data": {
      "text/plain": [
       "2541.5"
      ]
     },
     "execution_count": 7,
     "metadata": {},
     "output_type": "execute_result"
    }
   ],
   "source": [
    "mean_X=np.mean(pd.Series(data['X']))\n",
    "mean_X"
   ]
  },
  {
   "cell_type": "code",
   "execution_count": 9,
   "id": "fadd993d-62bb-4cd8-9cb7-c74d55de7096",
   "metadata": {
    "tags": []
   },
   "outputs": [
    {
     "data": {
      "text/plain": [
       "25000.0"
      ]
     },
     "execution_count": 9,
     "metadata": {},
     "output_type": "execute_result"
    }
   ],
   "source": [
    "mean_Y=np.mean(pd.Series(data['Y']))\n",
    "mean_Y"
   ]
  },
  {
   "cell_type": "code",
   "execution_count": 10,
   "id": "5fd3b123-647b-43e8-83b4-93fe2886153d",
   "metadata": {
    "tags": []
   },
   "outputs": [],
   "source": [
    "def diffx(data):\n",
    "    return data-mean_X\n",
    "def diffy(data):\n",
    "    return data-mean_Y"
   ]
  },
  {
   "cell_type": "code",
   "execution_count": 11,
   "id": "8256828f-4c4e-4318-9bb2-6b722b378637",
   "metadata": {
    "tags": []
   },
   "outputs": [],
   "source": [
    "data['xi-x']=data['X'].apply(diffx)"
   ]
  },
  {
   "cell_type": "code",
   "execution_count": 12,
   "id": "a9119edc-96e2-443f-a62e-eb017f6f3177",
   "metadata": {
    "tags": []
   },
   "outputs": [
    {
     "data": {
      "text/html": [
       "<div>\n",
       "<style scoped>\n",
       "    .dataframe tbody tr th:only-of-type {\n",
       "        vertical-align: middle;\n",
       "    }\n",
       "\n",
       "    .dataframe tbody tr th {\n",
       "        vertical-align: top;\n",
       "    }\n",
       "\n",
       "    .dataframe thead th {\n",
       "        text-align: right;\n",
       "    }\n",
       "</style>\n",
       "<table border=\"1\" class=\"dataframe\">\n",
       "  <thead>\n",
       "    <tr style=\"text-align: right;\">\n",
       "      <th></th>\n",
       "      <th>X</th>\n",
       "      <th>Y</th>\n",
       "      <th>xi-x</th>\n",
       "    </tr>\n",
       "  </thead>\n",
       "  <tbody>\n",
       "    <tr>\n",
       "      <th>0</th>\n",
       "      <td>2000</td>\n",
       "      <td>25000</td>\n",
       "      <td>-541.5</td>\n",
       "    </tr>\n",
       "    <tr>\n",
       "      <th>1</th>\n",
       "      <td>4800</td>\n",
       "      <td>42000</td>\n",
       "      <td>2258.5</td>\n",
       "    </tr>\n",
       "    <tr>\n",
       "      <th>2</th>\n",
       "      <td>3100</td>\n",
       "      <td>30000</td>\n",
       "      <td>558.5</td>\n",
       "    </tr>\n",
       "    <tr>\n",
       "      <th>3</th>\n",
       "      <td>2821</td>\n",
       "      <td>20000</td>\n",
       "      <td>279.5</td>\n",
       "    </tr>\n",
       "    <tr>\n",
       "      <th>4</th>\n",
       "      <td>1828</td>\n",
       "      <td>18000</td>\n",
       "      <td>-713.5</td>\n",
       "    </tr>\n",
       "    <tr>\n",
       "      <th>5</th>\n",
       "      <td>700</td>\n",
       "      <td>15000</td>\n",
       "      <td>-1841.5</td>\n",
       "    </tr>\n",
       "  </tbody>\n",
       "</table>\n",
       "</div>"
      ],
      "text/plain": [
       "      X      Y    xi-x\n",
       "0  2000  25000  -541.5\n",
       "1  4800  42000  2258.5\n",
       "2  3100  30000   558.5\n",
       "3  2821  20000   279.5\n",
       "4  1828  18000  -713.5\n",
       "5   700  15000 -1841.5"
      ]
     },
     "execution_count": 12,
     "metadata": {},
     "output_type": "execute_result"
    }
   ],
   "source": [
    "data"
   ]
  },
  {
   "cell_type": "code",
   "execution_count": 13,
   "id": "95ed669c-5dcb-4415-827f-9f1172474772",
   "metadata": {
    "tags": []
   },
   "outputs": [],
   "source": [
    "data['yi-y']=data['Y'].apply(diffy)"
   ]
  },
  {
   "cell_type": "code",
   "execution_count": 14,
   "id": "dc3c3980-4ce6-479a-950f-1c9e347cf0ed",
   "metadata": {
    "tags": []
   },
   "outputs": [
    {
     "data": {
      "text/html": [
       "<div>\n",
       "<style scoped>\n",
       "    .dataframe tbody tr th:only-of-type {\n",
       "        vertical-align: middle;\n",
       "    }\n",
       "\n",
       "    .dataframe tbody tr th {\n",
       "        vertical-align: top;\n",
       "    }\n",
       "\n",
       "    .dataframe thead th {\n",
       "        text-align: right;\n",
       "    }\n",
       "</style>\n",
       "<table border=\"1\" class=\"dataframe\">\n",
       "  <thead>\n",
       "    <tr style=\"text-align: right;\">\n",
       "      <th></th>\n",
       "      <th>X</th>\n",
       "      <th>Y</th>\n",
       "      <th>xi-x</th>\n",
       "      <th>yi-y</th>\n",
       "    </tr>\n",
       "  </thead>\n",
       "  <tbody>\n",
       "    <tr>\n",
       "      <th>0</th>\n",
       "      <td>2000</td>\n",
       "      <td>25000</td>\n",
       "      <td>-541.5</td>\n",
       "      <td>0.0</td>\n",
       "    </tr>\n",
       "    <tr>\n",
       "      <th>1</th>\n",
       "      <td>4800</td>\n",
       "      <td>42000</td>\n",
       "      <td>2258.5</td>\n",
       "      <td>17000.0</td>\n",
       "    </tr>\n",
       "    <tr>\n",
       "      <th>2</th>\n",
       "      <td>3100</td>\n",
       "      <td>30000</td>\n",
       "      <td>558.5</td>\n",
       "      <td>5000.0</td>\n",
       "    </tr>\n",
       "    <tr>\n",
       "      <th>3</th>\n",
       "      <td>2821</td>\n",
       "      <td>20000</td>\n",
       "      <td>279.5</td>\n",
       "      <td>-5000.0</td>\n",
       "    </tr>\n",
       "    <tr>\n",
       "      <th>4</th>\n",
       "      <td>1828</td>\n",
       "      <td>18000</td>\n",
       "      <td>-713.5</td>\n",
       "      <td>-7000.0</td>\n",
       "    </tr>\n",
       "    <tr>\n",
       "      <th>5</th>\n",
       "      <td>700</td>\n",
       "      <td>15000</td>\n",
       "      <td>-1841.5</td>\n",
       "      <td>-10000.0</td>\n",
       "    </tr>\n",
       "  </tbody>\n",
       "</table>\n",
       "</div>"
      ],
      "text/plain": [
       "      X      Y    xi-x     yi-y\n",
       "0  2000  25000  -541.5      0.0\n",
       "1  4800  42000  2258.5  17000.0\n",
       "2  3100  30000   558.5   5000.0\n",
       "3  2821  20000   279.5  -5000.0\n",
       "4  1828  18000  -713.5  -7000.0\n",
       "5   700  15000 -1841.5 -10000.0"
      ]
     },
     "execution_count": 14,
     "metadata": {},
     "output_type": "execute_result"
    }
   ],
   "source": [
    "data"
   ]
  },
  {
   "cell_type": "code",
   "execution_count": 15,
   "id": "39ce3140-f90f-49e3-b2bb-26957e5e89f5",
   "metadata": {
    "tags": []
   },
   "outputs": [
    {
     "data": {
      "text/plain": [
       "2541.5"
      ]
     },
     "execution_count": 15,
     "metadata": {},
     "output_type": "execute_result"
    }
   ],
   "source": [
    "data.X.mean()"
   ]
  },
  {
   "cell_type": "code",
   "execution_count": 17,
   "id": "f22fcc07-6d49-4ab9-8e28-c43031b62d4d",
   "metadata": {
    "tags": []
   },
   "outputs": [],
   "source": [
    "def mul(data1,data2):\n",
    "    return data1*data2\n",
    "data['(xi-x)(yi-y)']=data['xi-x']*data['yi-y']"
   ]
  },
  {
   "cell_type": "code",
   "execution_count": 18,
   "id": "202f9c9f-0d47-4cef-87dd-cea7b0fa2aef",
   "metadata": {
    "tags": []
   },
   "outputs": [
    {
     "data": {
      "text/html": [
       "<div>\n",
       "<style scoped>\n",
       "    .dataframe tbody tr th:only-of-type {\n",
       "        vertical-align: middle;\n",
       "    }\n",
       "\n",
       "    .dataframe tbody tr th {\n",
       "        vertical-align: top;\n",
       "    }\n",
       "\n",
       "    .dataframe thead th {\n",
       "        text-align: right;\n",
       "    }\n",
       "</style>\n",
       "<table border=\"1\" class=\"dataframe\">\n",
       "  <thead>\n",
       "    <tr style=\"text-align: right;\">\n",
       "      <th></th>\n",
       "      <th>X</th>\n",
       "      <th>Y</th>\n",
       "      <th>xi-x</th>\n",
       "      <th>yi-y</th>\n",
       "      <th>(xi-x)(yi-y)</th>\n",
       "    </tr>\n",
       "  </thead>\n",
       "  <tbody>\n",
       "    <tr>\n",
       "      <th>0</th>\n",
       "      <td>2000</td>\n",
       "      <td>25000</td>\n",
       "      <td>-541.5</td>\n",
       "      <td>0.0</td>\n",
       "      <td>-0.0</td>\n",
       "    </tr>\n",
       "    <tr>\n",
       "      <th>1</th>\n",
       "      <td>4800</td>\n",
       "      <td>42000</td>\n",
       "      <td>2258.5</td>\n",
       "      <td>17000.0</td>\n",
       "      <td>38394500.0</td>\n",
       "    </tr>\n",
       "    <tr>\n",
       "      <th>2</th>\n",
       "      <td>3100</td>\n",
       "      <td>30000</td>\n",
       "      <td>558.5</td>\n",
       "      <td>5000.0</td>\n",
       "      <td>2792500.0</td>\n",
       "    </tr>\n",
       "    <tr>\n",
       "      <th>3</th>\n",
       "      <td>2821</td>\n",
       "      <td>20000</td>\n",
       "      <td>279.5</td>\n",
       "      <td>-5000.0</td>\n",
       "      <td>-1397500.0</td>\n",
       "    </tr>\n",
       "    <tr>\n",
       "      <th>4</th>\n",
       "      <td>1828</td>\n",
       "      <td>18000</td>\n",
       "      <td>-713.5</td>\n",
       "      <td>-7000.0</td>\n",
       "      <td>4994500.0</td>\n",
       "    </tr>\n",
       "    <tr>\n",
       "      <th>5</th>\n",
       "      <td>700</td>\n",
       "      <td>15000</td>\n",
       "      <td>-1841.5</td>\n",
       "      <td>-10000.0</td>\n",
       "      <td>18415000.0</td>\n",
       "    </tr>\n",
       "  </tbody>\n",
       "</table>\n",
       "</div>"
      ],
      "text/plain": [
       "      X      Y    xi-x     yi-y  (xi-x)(yi-y)\n",
       "0  2000  25000  -541.5      0.0          -0.0\n",
       "1  4800  42000  2258.5  17000.0    38394500.0\n",
       "2  3100  30000   558.5   5000.0     2792500.0\n",
       "3  2821  20000   279.5  -5000.0    -1397500.0\n",
       "4  1828  18000  -713.5  -7000.0     4994500.0\n",
       "5   700  15000 -1841.5 -10000.0    18415000.0"
      ]
     },
     "execution_count": 18,
     "metadata": {},
     "output_type": "execute_result"
    }
   ],
   "source": [
    "data"
   ]
  },
  {
   "cell_type": "code",
   "execution_count": 19,
   "id": "d320b692-faff-4d29-a18d-0426ff49ea47",
   "metadata": {
    "tags": []
   },
   "outputs": [],
   "source": [
    "data['(xi-x)**2)']=data['xi-x']**2"
   ]
  },
  {
   "cell_type": "code",
   "execution_count": 20,
   "id": "409be18c-275d-4bb8-adcd-1f909ca25df5",
   "metadata": {
    "tags": []
   },
   "outputs": [
    {
     "data": {
      "text/html": [
       "<div>\n",
       "<style scoped>\n",
       "    .dataframe tbody tr th:only-of-type {\n",
       "        vertical-align: middle;\n",
       "    }\n",
       "\n",
       "    .dataframe tbody tr th {\n",
       "        vertical-align: top;\n",
       "    }\n",
       "\n",
       "    .dataframe thead th {\n",
       "        text-align: right;\n",
       "    }\n",
       "</style>\n",
       "<table border=\"1\" class=\"dataframe\">\n",
       "  <thead>\n",
       "    <tr style=\"text-align: right;\">\n",
       "      <th></th>\n",
       "      <th>X</th>\n",
       "      <th>Y</th>\n",
       "      <th>xi-x</th>\n",
       "      <th>yi-y</th>\n",
       "      <th>(xi-x)(yi-y)</th>\n",
       "      <th>(xi-x)**2)</th>\n",
       "    </tr>\n",
       "  </thead>\n",
       "  <tbody>\n",
       "    <tr>\n",
       "      <th>0</th>\n",
       "      <td>2000</td>\n",
       "      <td>25000</td>\n",
       "      <td>-541.5</td>\n",
       "      <td>0.0</td>\n",
       "      <td>-0.0</td>\n",
       "      <td>293222.25</td>\n",
       "    </tr>\n",
       "    <tr>\n",
       "      <th>1</th>\n",
       "      <td>4800</td>\n",
       "      <td>42000</td>\n",
       "      <td>2258.5</td>\n",
       "      <td>17000.0</td>\n",
       "      <td>38394500.0</td>\n",
       "      <td>5100822.25</td>\n",
       "    </tr>\n",
       "    <tr>\n",
       "      <th>2</th>\n",
       "      <td>3100</td>\n",
       "      <td>30000</td>\n",
       "      <td>558.5</td>\n",
       "      <td>5000.0</td>\n",
       "      <td>2792500.0</td>\n",
       "      <td>311922.25</td>\n",
       "    </tr>\n",
       "    <tr>\n",
       "      <th>3</th>\n",
       "      <td>2821</td>\n",
       "      <td>20000</td>\n",
       "      <td>279.5</td>\n",
       "      <td>-5000.0</td>\n",
       "      <td>-1397500.0</td>\n",
       "      <td>78120.25</td>\n",
       "    </tr>\n",
       "    <tr>\n",
       "      <th>4</th>\n",
       "      <td>1828</td>\n",
       "      <td>18000</td>\n",
       "      <td>-713.5</td>\n",
       "      <td>-7000.0</td>\n",
       "      <td>4994500.0</td>\n",
       "      <td>509082.25</td>\n",
       "    </tr>\n",
       "    <tr>\n",
       "      <th>5</th>\n",
       "      <td>700</td>\n",
       "      <td>15000</td>\n",
       "      <td>-1841.5</td>\n",
       "      <td>-10000.0</td>\n",
       "      <td>18415000.0</td>\n",
       "      <td>3391122.25</td>\n",
       "    </tr>\n",
       "  </tbody>\n",
       "</table>\n",
       "</div>"
      ],
      "text/plain": [
       "      X      Y    xi-x     yi-y  (xi-x)(yi-y)  (xi-x)**2)\n",
       "0  2000  25000  -541.5      0.0          -0.0   293222.25\n",
       "1  4800  42000  2258.5  17000.0    38394500.0  5100822.25\n",
       "2  3100  30000   558.5   5000.0     2792500.0   311922.25\n",
       "3  2821  20000   279.5  -5000.0    -1397500.0    78120.25\n",
       "4  1828  18000  -713.5  -7000.0     4994500.0   509082.25\n",
       "5   700  15000 -1841.5 -10000.0    18415000.0  3391122.25"
      ]
     },
     "execution_count": 20,
     "metadata": {},
     "output_type": "execute_result"
    }
   ],
   "source": [
    "data"
   ]
  },
  {
   "cell_type": "code",
   "execution_count": 21,
   "id": "75a634f0-b658-468d-901c-0bef6d7b0cb6",
   "metadata": {
    "tags": []
   },
   "outputs": [
    {
     "data": {
      "text/plain": [
       "6.525929129663228"
      ]
     },
     "execution_count": 21,
     "metadata": {},
     "output_type": "execute_result"
    }
   ],
   "source": [
    "b1=sum(data['(xi-x)(yi-y)'])/sum(data['(xi-x)**2)'])\n",
    "b1"
   ]
  },
  {
   "cell_type": "code",
   "execution_count": 22,
   "id": "c3f1c658-caf0-4bc4-9ddd-fdd350455327",
   "metadata": {
    "tags": []
   },
   "outputs": [
    {
     "data": {
      "text/plain": [
       "8414.351116960905"
      ]
     },
     "execution_count": 22,
     "metadata": {},
     "output_type": "execute_result"
    }
   ],
   "source": [
    "b0=mean_Y-b1*mean_X\n",
    "b0"
   ]
  },
  {
   "cell_type": "code",
   "execution_count": 23,
   "id": "6015cfff-0d34-405f-b83a-e1e3660935b1",
   "metadata": {
    "tags": []
   },
   "outputs": [],
   "source": [
    "def regression(x):\n",
    "    return b1*x+b0"
   ]
  },
  {
   "cell_type": "code",
   "execution_count": 24,
   "id": "839479c8-7457-40fe-a3a6-2a207839edbd",
   "metadata": {
    "tags": []
   },
   "outputs": [
    {
     "data": {
      "text/plain": [
       "21466.209376287363"
      ]
     },
     "execution_count": 24,
     "metadata": {},
     "output_type": "execute_result"
    }
   ],
   "source": [
    "regression(2000)"
   ]
  },
  {
   "cell_type": "code",
   "execution_count": 25,
   "id": "080ed296-055b-41e7-bc0c-62f2bd0d2ad9",
   "metadata": {
    "tags": []
   },
   "outputs": [
    {
     "data": {
      "text/plain": [
       "<pandas.plotting._core.PlotAccessor object at 0x7f51e0be2e30>"
      ]
     },
     "execution_count": 25,
     "metadata": {},
     "output_type": "execute_result"
    }
   ],
   "source": [
    "data[['X','Y']].plot"
   ]
  },
  {
   "cell_type": "code",
   "execution_count": 30,
   "id": "74790cac-f201-407d-819d-06db67fe1b03",
   "metadata": {
    "tags": []
   },
   "outputs": [
    {
     "data": {
      "text/html": [
       "<div>\n",
       "<style scoped>\n",
       "    .dataframe tbody tr th:only-of-type {\n",
       "        vertical-align: middle;\n",
       "    }\n",
       "\n",
       "    .dataframe tbody tr th {\n",
       "        vertical-align: top;\n",
       "    }\n",
       "\n",
       "    .dataframe thead th {\n",
       "        text-align: right;\n",
       "    }\n",
       "</style>\n",
       "<table border=\"1\" class=\"dataframe\">\n",
       "  <thead>\n",
       "    <tr style=\"text-align: right;\">\n",
       "      <th></th>\n",
       "      <th>X</th>\n",
       "      <th>Y</th>\n",
       "      <th>xi-x</th>\n",
       "      <th>yi-y</th>\n",
       "      <th>(xi-x)(yi-y)</th>\n",
       "      <th>(xi-x)**2)</th>\n",
       "      <th>yhat</th>\n",
       "    </tr>\n",
       "  </thead>\n",
       "  <tbody>\n",
       "    <tr>\n",
       "      <th>0</th>\n",
       "      <td>2000</td>\n",
       "      <td>25000</td>\n",
       "      <td>-541.5</td>\n",
       "      <td>0.0</td>\n",
       "      <td>-0.0</td>\n",
       "      <td>293222.25</td>\n",
       "      <td>21466.209376</td>\n",
       "    </tr>\n",
       "    <tr>\n",
       "      <th>1</th>\n",
       "      <td>4800</td>\n",
       "      <td>42000</td>\n",
       "      <td>2258.5</td>\n",
       "      <td>17000.0</td>\n",
       "      <td>38394500.0</td>\n",
       "      <td>5100822.25</td>\n",
       "      <td>39738.810939</td>\n",
       "    </tr>\n",
       "    <tr>\n",
       "      <th>2</th>\n",
       "      <td>3100</td>\n",
       "      <td>30000</td>\n",
       "      <td>558.5</td>\n",
       "      <td>5000.0</td>\n",
       "      <td>2792500.0</td>\n",
       "      <td>311922.25</td>\n",
       "      <td>28644.731419</td>\n",
       "    </tr>\n",
       "    <tr>\n",
       "      <th>3</th>\n",
       "      <td>2821</td>\n",
       "      <td>20000</td>\n",
       "      <td>279.5</td>\n",
       "      <td>-5000.0</td>\n",
       "      <td>-1397500.0</td>\n",
       "      <td>78120.25</td>\n",
       "      <td>26823.997192</td>\n",
       "    </tr>\n",
       "    <tr>\n",
       "      <th>4</th>\n",
       "      <td>1828</td>\n",
       "      <td>18000</td>\n",
       "      <td>-713.5</td>\n",
       "      <td>-7000.0</td>\n",
       "      <td>4994500.0</td>\n",
       "      <td>509082.25</td>\n",
       "      <td>20343.749566</td>\n",
       "    </tr>\n",
       "    <tr>\n",
       "      <th>5</th>\n",
       "      <td>700</td>\n",
       "      <td>15000</td>\n",
       "      <td>-1841.5</td>\n",
       "      <td>-10000.0</td>\n",
       "      <td>18415000.0</td>\n",
       "      <td>3391122.25</td>\n",
       "      <td>12982.501508</td>\n",
       "    </tr>\n",
       "  </tbody>\n",
       "</table>\n",
       "</div>"
      ],
      "text/plain": [
       "      X      Y    xi-x     yi-y  (xi-x)(yi-y)  (xi-x)**2)          yhat\n",
       "0  2000  25000  -541.5      0.0          -0.0   293222.25  21466.209376\n",
       "1  4800  42000  2258.5  17000.0    38394500.0  5100822.25  39738.810939\n",
       "2  3100  30000   558.5   5000.0     2792500.0   311922.25  28644.731419\n",
       "3  2821  20000   279.5  -5000.0    -1397500.0    78120.25  26823.997192\n",
       "4  1828  18000  -713.5  -7000.0     4994500.0   509082.25  20343.749566\n",
       "5   700  15000 -1841.5 -10000.0    18415000.0  3391122.25  12982.501508"
      ]
     },
     "execution_count": 30,
     "metadata": {},
     "output_type": "execute_result"
    }
   ],
   "source": [
    "data['yhat']=data['X'].apply(regression)\n",
    "data"
   ]
  },
  {
   "cell_type": "code",
   "execution_count": 32,
   "id": "ec648888-32f1-4c55-87b5-09f456e4826f",
   "metadata": {
    "tags": []
   },
   "outputs": [
    {
     "data": {
      "text/html": [
       "<div>\n",
       "<style scoped>\n",
       "    .dataframe tbody tr th:only-of-type {\n",
       "        vertical-align: middle;\n",
       "    }\n",
       "\n",
       "    .dataframe tbody tr th {\n",
       "        vertical-align: top;\n",
       "    }\n",
       "\n",
       "    .dataframe thead th {\n",
       "        text-align: right;\n",
       "    }\n",
       "</style>\n",
       "<table border=\"1\" class=\"dataframe\">\n",
       "  <thead>\n",
       "    <tr style=\"text-align: right;\">\n",
       "      <th></th>\n",
       "      <th>X</th>\n",
       "      <th>Y</th>\n",
       "      <th>xi-x</th>\n",
       "      <th>yi-y</th>\n",
       "      <th>(xi-x)(yi-y)</th>\n",
       "      <th>(xi-x)**2)</th>\n",
       "      <th>yhat</th>\n",
       "      <th>(yhat-y)</th>\n",
       "    </tr>\n",
       "  </thead>\n",
       "  <tbody>\n",
       "    <tr>\n",
       "      <th>0</th>\n",
       "      <td>2000</td>\n",
       "      <td>25000</td>\n",
       "      <td>-541.5</td>\n",
       "      <td>0.0</td>\n",
       "      <td>-0.0</td>\n",
       "      <td>293222.25</td>\n",
       "      <td>21466.209376</td>\n",
       "      <td>-3533.790624</td>\n",
       "    </tr>\n",
       "    <tr>\n",
       "      <th>1</th>\n",
       "      <td>4800</td>\n",
       "      <td>42000</td>\n",
       "      <td>2258.5</td>\n",
       "      <td>17000.0</td>\n",
       "      <td>38394500.0</td>\n",
       "      <td>5100822.25</td>\n",
       "      <td>39738.810939</td>\n",
       "      <td>-2261.189061</td>\n",
       "    </tr>\n",
       "    <tr>\n",
       "      <th>2</th>\n",
       "      <td>3100</td>\n",
       "      <td>30000</td>\n",
       "      <td>558.5</td>\n",
       "      <td>5000.0</td>\n",
       "      <td>2792500.0</td>\n",
       "      <td>311922.25</td>\n",
       "      <td>28644.731419</td>\n",
       "      <td>-1355.268581</td>\n",
       "    </tr>\n",
       "    <tr>\n",
       "      <th>3</th>\n",
       "      <td>2821</td>\n",
       "      <td>20000</td>\n",
       "      <td>279.5</td>\n",
       "      <td>-5000.0</td>\n",
       "      <td>-1397500.0</td>\n",
       "      <td>78120.25</td>\n",
       "      <td>26823.997192</td>\n",
       "      <td>6823.997192</td>\n",
       "    </tr>\n",
       "    <tr>\n",
       "      <th>4</th>\n",
       "      <td>1828</td>\n",
       "      <td>18000</td>\n",
       "      <td>-713.5</td>\n",
       "      <td>-7000.0</td>\n",
       "      <td>4994500.0</td>\n",
       "      <td>509082.25</td>\n",
       "      <td>20343.749566</td>\n",
       "      <td>2343.749566</td>\n",
       "    </tr>\n",
       "    <tr>\n",
       "      <th>5</th>\n",
       "      <td>700</td>\n",
       "      <td>15000</td>\n",
       "      <td>-1841.5</td>\n",
       "      <td>-10000.0</td>\n",
       "      <td>18415000.0</td>\n",
       "      <td>3391122.25</td>\n",
       "      <td>12982.501508</td>\n",
       "      <td>-2017.498492</td>\n",
       "    </tr>\n",
       "  </tbody>\n",
       "</table>\n",
       "</div>"
      ],
      "text/plain": [
       "      X      Y    xi-x     yi-y  (xi-x)(yi-y)  (xi-x)**2)          yhat  \\\n",
       "0  2000  25000  -541.5      0.0          -0.0   293222.25  21466.209376   \n",
       "1  4800  42000  2258.5  17000.0    38394500.0  5100822.25  39738.810939   \n",
       "2  3100  30000   558.5   5000.0     2792500.0   311922.25  28644.731419   \n",
       "3  2821  20000   279.5  -5000.0    -1397500.0    78120.25  26823.997192   \n",
       "4  1828  18000  -713.5  -7000.0     4994500.0   509082.25  20343.749566   \n",
       "5   700  15000 -1841.5 -10000.0    18415000.0  3391122.25  12982.501508   \n",
       "\n",
       "      (yhat-y)  \n",
       "0 -3533.790624  \n",
       "1 -2261.189061  \n",
       "2 -1355.268581  \n",
       "3  6823.997192  \n",
       "4  2343.749566  \n",
       "5 -2017.498492  "
      ]
     },
     "execution_count": 32,
     "metadata": {},
     "output_type": "execute_result"
    }
   ],
   "source": [
    "data['(yhat-y)']=data['yhat']-data['Y']\n",
    "data"
   ]
  },
  {
   "cell_type": "code",
   "execution_count": 33,
   "id": "1cce0300-c80a-4219-8989-f6d485f68315",
   "metadata": {
    "tags": []
   },
   "outputs": [],
   "source": [
    "SDE=np.sqrt(sum(data['(yhat-y)']**2)/(len(data)-2))"
   ]
  },
  {
   "cell_type": "code",
   "execution_count": 34,
   "id": "c34b2a25-92e0-4261-8e1e-34a4e7847e6d",
   "metadata": {
    "tags": []
   },
   "outputs": [
    {
     "data": {
      "text/plain": [
       "4346.487229200542"
      ]
     },
     "execution_count": 34,
     "metadata": {},
     "output_type": "execute_result"
    }
   ],
   "source": [
    "SDE"
   ]
  },
  {
   "cell_type": "code",
   "execution_count": 35,
   "id": "8015b94a-3cf5-4c0d-a19d-442003b4ec76",
   "metadata": {
    "tags": []
   },
   "outputs": [
    {
     "data": {
      "text/plain": [
       "<Axes: >"
      ]
     },
     "execution_count": 35,
     "metadata": {},
     "output_type": "execute_result"
    },
    {
     "data": {
      "image/png": "[encoded data removed]",
      "text/plain": [
       "<Figure size 640x480 with 1 Axes>"
      ]
     },
     "metadata": {},
     "output_type": "display_data"
    }
   ],
   "source": [
    "data.plot()"
   ]
  }
 ],
 "metadata": {
  "kernelspec": {
   "display_name": "Python 3 (ipykernel)",
   "language": "python",
   "name": "python3"
  },
  "language_info": {
   "codemirror_mode": {
    "name": "ipython",
    "version": 3
   },
   "file_extension": ".py",
   "mimetype": "text/x-python",
   "name": "python",
   "nbconvert_exporter": "python",
   "pygments_lexer": "ipython3",
   "version": "3.10.12"
  }
 },
 "nbformat": 4,
 "nbformat_minor": 5
}
