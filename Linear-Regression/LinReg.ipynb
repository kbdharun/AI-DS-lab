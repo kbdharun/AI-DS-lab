{
 "cells": [
  {
   "cell_type": "markdown",
   "id": "52463a29-ba38-4d6a-af62-1c3dea547c77",
   "metadata": {},
   "source": [
    "Code credits - **Mukesh Prasanna**"
   ]
  },
  {
   "cell_type": "code",
   "execution_count": 1,
   "id": "a1834c98-0806-431b-8b57-a7b39bc9c34c",
   "metadata": {},
   "outputs": [],
   "source": [
    "import pandas as pd\n",
    "import numpy as np"
   ]
  },
  {
   "cell_type": "code",
   "execution_count": 5,
   "id": "1852d3be-5fbd-43e2-99c9-6081a1fd2f30",
   "metadata": {},
   "outputs": [],
   "source": [
    "df = pd.read_csv('Height_Weight.csv')"
   ]
  },
  {
   "cell_type": "code",
   "execution_count": 6,
   "id": "d246045d-e6f4-4a10-8fcc-f2c61934422d",
   "metadata": {},
   "outputs": [
    {
     "data": {
      "text/html": [
       "<div>\n",
       "<style scoped>\n",
       "    .dataframe tbody tr th:only-of-type {\n",
       "        vertical-align: middle;\n",
       "    }\n",
       "\n",
       "    .dataframe tbody tr th {\n",
       "        vertical-align: top;\n",
       "    }\n",
       "\n",
       "    .dataframe thead th {\n",
       "        text-align: right;\n",
       "    }\n",
       "</style>\n",
       "<table border=\"1\" class=\"dataframe\">\n",
       "  <thead>\n",
       "    <tr style=\"text-align: right;\">\n",
       "      <th></th>\n",
       "      <th>Index</th>\n",
       "      <th>Height</th>\n",
       "      <th>Weight</th>\n",
       "    </tr>\n",
       "  </thead>\n",
       "  <tbody>\n",
       "    <tr>\n",
       "      <th>0</th>\n",
       "      <td>1</td>\n",
       "      <td>65.78331</td>\n",
       "      <td>112.9925</td>\n",
       "    </tr>\n",
       "    <tr>\n",
       "      <th>1</th>\n",
       "      <td>2</td>\n",
       "      <td>71.51521</td>\n",
       "      <td>136.4873</td>\n",
       "    </tr>\n",
       "    <tr>\n",
       "      <th>2</th>\n",
       "      <td>3</td>\n",
       "      <td>69.39874</td>\n",
       "      <td>153.0269</td>\n",
       "    </tr>\n",
       "    <tr>\n",
       "      <th>3</th>\n",
       "      <td>4</td>\n",
       "      <td>68.21660</td>\n",
       "      <td>142.3354</td>\n",
       "    </tr>\n",
       "    <tr>\n",
       "      <th>4</th>\n",
       "      <td>5</td>\n",
       "      <td>67.78781</td>\n",
       "      <td>144.2971</td>\n",
       "    </tr>\n",
       "  </tbody>\n",
       "</table>\n",
       "</div>"
      ],
      "text/plain": [
       "   Index    Height    Weight\n",
       "0      1  65.78331  112.9925\n",
       "1      2  71.51521  136.4873\n",
       "2      3  69.39874  153.0269\n",
       "3      4  68.21660  142.3354\n",
       "4      5  67.78781  144.2971"
      ]
     },
     "execution_count": 6,
     "metadata": {},
     "output_type": "execute_result"
    }
   ],
   "source": [
    "df.head()"
   ]
  },
  {
   "cell_type": "code",
   "execution_count": 21,
   "id": "390b2e69-f566-4d63-b39e-19780c6607c6",
   "metadata": {},
   "outputs": [],
   "source": [
    "X_train = df['Height'].to_numpy()\n",
    "Y_train = df['Weight'].to_numpy()\n"
   ]
  },
  {
   "cell_type": "code",
   "execution_count": 22,
   "id": "e1024e03-97b4-4463-841e-3fe3c194abe2",
   "metadata": {},
   "outputs": [],
   "source": [
    "X_mean = np.mean(X_train)\n",
    "Y_mean = np.mean(Y_train)\n",
    "prod = 0\n",
    "mse = 0"
   ]
  },
  {
   "cell_type": "code",
   "execution_count": 23,
   "id": "a6bd9ff0-70c7-4d3e-9b6a-d8f845f8bae4",
   "metadata": {},
   "outputs": [],
   "source": [
    "for i in range(len(X_train)) :\n",
    "    prod += ((X_train[i]-X_mean)*(Y_train[i]-Y_mean))\n",
    "    mse += ((X_train[i]-X_mean)**2)"
   ]
  },
  {
   "cell_type": "code",
   "execution_count": 24,
   "id": "241028c5-849e-45cb-9888-d88b2191880b",
   "metadata": {},
   "outputs": [],
   "source": [
    "b1 = prod/mse\n",
    "b0 = Y_mean-X_mean*b1"
   ]
  },
  {
   "cell_type": "code",
   "execution_count": 25,
   "id": "497b0b10-b4d1-4b26-bd82-c5def029638f",
   "metadata": {},
   "outputs": [
    {
     "name": "stdout",
     "output_type": "stream",
     "text": [
      "Slope : 3.0834764454030186 \n",
      "Intercept : -82.57574306454445\n"
     ]
    }
   ],
   "source": [
    "print('Slope :',b1,'\\nIntercept :',b0)"
   ]
  },
  {
   "cell_type": "code",
   "execution_count": 26,
   "id": "73ad0ba6-b4ef-4ae9-ad3c-726d505c9908",
   "metadata": {},
   "outputs": [],
   "source": [
    "def func(x) :\n",
    "    return b1*x+b0"
   ]
  },
  {
   "cell_type": "code",
   "execution_count": 27,
   "id": "69469ebd-98b3-4439-825d-5a8f41f601e2",
   "metadata": {},
   "outputs": [
    {
     "name": "stdout",
     "output_type": "stream",
     "text": [
      "Standard Error : 10.079516864371302\n"
     ]
    }
   ],
   "source": [
    "cost = 0\n",
    "for i in range(len(X_train)) :\n",
    "    cost+=((func(X_train[i])-Y_train[i])**2)\n",
    "cost = (cost/(len(X_train)-2))**0.5\n",
    "print('Standard Error :',cost)"
   ]
  },
  {
   "cell_type": "code",
   "execution_count": 29,
   "id": "dbc16124-71ab-4a21-9dcc-bbc50e221912",
   "metadata": {},
   "outputs": [
    {
     "name": "stdout",
     "output_type": "stream",
     "text": [
      "Predicted weight(in pounds) for 67 inches : 124.0171787774578\n"
     ]
    }
   ],
   "source": [
    "print('Predicted weight(in pounds) for 67 inches :',func(67))"
   ]
  }
 ],
 "metadata": {
  "kernelspec": {
   "display_name": "Python 3 (ipykernel)",
   "language": "python",
   "name": "python3"
  },
  "language_info": {
   "codemirror_mode": {
    "name": "ipython",
    "version": 3
   },
   "file_extension": ".py",
   "mimetype": "text/x-python",
   "name": "python",
   "nbconvert_exporter": "python",
   "pygments_lexer": "ipython3",
   "version": "3.11.6"
  }
 },
 "nbformat": 4,
 "nbformat_minor": 5
}
