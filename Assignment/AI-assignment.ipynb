{
 "cells": [
  {
   "cell_type": "markdown",
   "id": "06f115f0-569e-429f-8c28-298cb4d53918",
   "metadata": {},
   "source": [
    "# AI Assignment\n",
    "\n",
    "## A Star Algorithm - Path Finding\n",
    "\n",
    "This code features an **interactive interface** where users can select start and destination cities from dropdown menus. It employs the **A* search algorithm**, an optimized pathfinding technique, to calculate the shortest route and total distance between the chosen cities, utilizing a provided dataset in real-time."
   ]
  },
  {
   "cell_type": "code",
   "execution_count": 2,
   "id": "5a112a91-7a43-4dec-874c-903741f61f9f",
   "metadata": {
    "tags": []
   },
   "outputs": [
    {
     "data": {
      "application/vnd.jupyter.widget-view+json": {
       "model_id": "16464c2319864ae3914fa686d3ad0c6d",
       "version_major": 2,
       "version_minor": 0
      },
      "text/plain": [
       "Label(value='Select Start City:')"
      ]
     },
     "metadata": {},
     "output_type": "display_data"
    },
    {
     "data": {
      "application/vnd.jupyter.widget-view+json": {
       "model_id": "3b0d840e3bfb4560a4630891ddff8141",
       "version_major": 2,
       "version_minor": 0
      },
      "text/plain": [
       "Dropdown(options=(None, 'Agra', 'Ahmedabad', 'Bengaluru', 'Bhubaneswar', 'Chennai', 'Delhi', 'Goa', 'Hyderabad…"
      ]
     },
     "metadata": {},
     "output_type": "display_data"
    },
    {
     "data": {
      "application/vnd.jupyter.widget-view+json": {
       "model_id": "fb04ccef6a63415cbc2076c11c87813e",
       "version_major": 2,
       "version_minor": 0
      },
      "text/plain": [
       "Label(value='Select Destination City:')"
      ]
     },
     "metadata": {},
     "output_type": "display_data"
    },
    {
     "data": {
      "application/vnd.jupyter.widget-view+json": {
       "model_id": "0043fe1f6391490397592800e7ab7735",
       "version_major": 2,
       "version_minor": 0
      },
      "text/plain": [
       "Dropdown(options=(None, 'Agra', 'Ahmedabad', 'Bengaluru', 'Bhubaneswar', 'Chennai', 'Delhi', 'Goa', 'Hyderabad…"
      ]
     },
     "metadata": {},
     "output_type": "display_data"
    },
    {
     "data": {
      "application/vnd.jupyter.widget-view+json": {
       "model_id": "244239c436714291ac87528238c5846c",
       "version_major": 2,
       "version_minor": 0
      },
      "text/plain": [
       "Button(description='Calculate', style=ButtonStyle())"
      ]
     },
     "metadata": {},
     "output_type": "display_data"
    },
    {
     "data": {
      "application/vnd.jupyter.widget-view+json": {
       "model_id": "25b3d8862da74516ba93723e8d9bb98b",
       "version_major": 2,
       "version_minor": 0
      },
      "text/plain": [
       "Output()"
      ]
     },
     "metadata": {},
     "output_type": "display_data"
    }
   ],
   "source": [
    "import csv\n",
    "import heapq\n",
    "import ipywidgets as widgets\n",
    "from IPython.display import display, clear_output\n",
    "\n",
    "# Class representing the graph\n",
    "class Graph:\n",
    "    def __init__(self, graph_dict=None, directed=True):\n",
    "        self.graph_dict = graph_dict or {}\n",
    "        self.directed = directed\n",
    "        if not directed:\n",
    "            self.make_undirected()\n",
    "\n",
    "    # Method to make the graph undirected by adding reverse edges\n",
    "    def make_undirected(self):\n",
    "        for a in list(self.graph_dict.keys()):\n",
    "            for (b, dist) in self.graph_dict[a].items():\n",
    "                self.graph_dict.setdefault(b, {})[a] = dist\n",
    "\n",
    "    # Method to connect two cities with a given distance\n",
    "    def connect(self, A, B, distance=1):\n",
    "        self.graph_dict.setdefault(A, {})[B] = distance\n",
    "        if not self.directed:\n",
    "            self.graph_dict.setdefault(B, {})[A] = distance\n",
    "\n",
    "    # Method to get neighbors of a city\n",
    "    def get(self, a, b=None):\n",
    "        links = self.graph_dict.setdefault(a, {})\n",
    "        if b is None:\n",
    "            return links\n",
    "        else:\n",
    "            return links.get(b)\n",
    "\n",
    "# Function to read data from CSV file\n",
    "def read_csv(filename):\n",
    "    with open(filename, 'r') as csvfile:\n",
    "        reader = csv.reader(csvfile)\n",
    "        next(reader)\n",
    "        data = [row for row in reader]\n",
    "    return data\n",
    "\n",
    "# Function to extract graph from the read CSV file's data\n",
    "def extract_graph(data):\n",
    "    graph = Graph()\n",
    "    for row in data:\n",
    "        origin, destination, distance = row\n",
    "        graph.connect(origin, destination, int(distance))\n",
    "    return graph\n",
    "\n",
    "# Optionally we can manually define heuristic value\n",
    "def heuristic(city, end_city):\n",
    "    return 0\n",
    "\n",
    "# A* search algorithm implementation\n",
    "def astar_search(graph, start, end):\n",
    "    open_list = []  # Priority queue to keep track of nodes to be explored\n",
    "    heapq.heappush(open_list, (0, start, []))  # Initialize the priority queue with start node and path\n",
    "    visited = set()  # Set to keep track of visited nodes\n",
    "\n",
    "    while open_list:\n",
    "        cost, current_city, path = heapq.heappop(open_list)  # Get the node with the lowest total cost from the priority queue\n",
    "\n",
    "        if current_city == end:  # If the current node is the destination, return the path and total cost\n",
    "            path.append(current_city)\n",
    "            return path, cost\n",
    "\n",
    "        if current_city not in visited:\n",
    "            visited.add(current_city)  # Mark the current node as visited\n",
    "            for neighbor, distance in graph.get(current_city).items():  # Explore neighbors of the current node\n",
    "                total_cost = cost + distance + heuristic(neighbor, end)  # Calculate total cost for the neighbor\n",
    "                heapq.heappush(open_list, (total_cost, neighbor, path + [current_city]))  # Add neighbor to the priority queue\n",
    "\n",
    "    return None, float('inf')  # If no path is found, return None and infinite cost\n",
    "\n",
    "# Main function to create widgets and handle button clicks\n",
    "def main():\n",
    "    # Read data from CSV file and extract the graph\n",
    "    data = read_csv('indian-cities-dataset.csv')\n",
    "    graph = extract_graph(data)\n",
    "\n",
    "    # Extract and sort unique cities from the dataset\n",
    "    unique_cities = sorted(set(row[0] for row in data))\n",
    "    # Include None as the default option in the dropdown menus\n",
    "    cities_list = [None] + unique_cities\n",
    "\n",
    "    # Create labels, dropdowns, buttons, and output widget using ipywidgets\n",
    "    start_label = widgets.Label('Select Start City:')\n",
    "    start_city_dropdown = widgets.Dropdown(options=cities_list)\n",
    "    end_label = widgets.Label('Select Destination City:')\n",
    "    end_city_dropdown = widgets.Dropdown(options=cities_list)\n",
    "    \n",
    "    calculate_button = widgets.Button(description='Calculate')\n",
    "    output = widgets.Output()\n",
    "\n",
    "    # Function to handle button click event\n",
    "    def on_calculate_button_click(b):\n",
    "        start_city = start_city_dropdown.value\n",
    "        end_city = end_city_dropdown.value\n",
    "        \n",
    "        if start_city is None or end_city is None:\n",
    "            with output:\n",
    "                print(\"Error: Please select both start and destination cities.\")\n",
    "        elif start_city == end_city:\n",
    "            with output:\n",
    "                print(\"Error: Start and destination cities cannot be the same.\")\n",
    "        else:\n",
    "            # Call A* search algorithm and display the result\n",
    "            path, total_distance = astar_search(graph, start_city, end_city)\n",
    "            with output:\n",
    "                if path:\n",
    "                    print(\"Shortest route from {} to {} is: {}\".format(start_city, end_city, ' -> '.join(path)))\n",
    "                    print(\"Total Path Cost (in Km):\", total_distance)\n",
    "                else:\n",
    "                    print(\"No path found.\")\n",
    "\n",
    "    # Attach the event handler function to the button click event\n",
    "    calculate_button.on_click(on_calculate_button_click)\n",
    "    \n",
    "    # Display widgets using IPython display function\n",
    "    display(start_label, start_city_dropdown, end_label, end_city_dropdown, calculate_button, output)\n",
    "\n",
    "# Entry point of the program\n",
    "if __name__ == \"__main__\":\n",
    "    main()\n"
   ]
  }
 ],
 "metadata": {
  "kernelspec": {
   "display_name": "Python 3 (ipykernel)",
   "language": "python",
   "name": "python3"
  },
  "language_info": {
   "codemirror_mode": {
    "name": "ipython",
    "version": 3
   },
   "file_extension": ".py",
   "mimetype": "text/x-python",
   "name": "python",
   "nbconvert_exporter": "python",
   "pygments_lexer": "ipython3",
   "version": "3.10.12"
  }
 },
 "nbformat": 4,
 "nbformat_minor": 5
}
