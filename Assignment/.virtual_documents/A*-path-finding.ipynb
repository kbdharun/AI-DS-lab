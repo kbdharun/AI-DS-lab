


import csv
import heapq
import ipywidgets as widgets
from IPython.display import display, clear_output

# Class representing the graph
class Graph:
    def __init__(self, graph_dict=None, directed=True):
        self.graph_dict = graph_dict or {}
        self.directed = directed
        if not directed:
            self.make_undirected()

    # Method to make the graph undirected by adding reverse edges
    def make_undirected(self):
        for a in list(self.graph_dict.keys()):
            for (b, dist) in self.graph_dict[a].items():
                self.graph_dict.setdefault(b, {})[a] = dist

    # Method to connect two cities with a given distance
    def connect(self, A, B, distance=1):
        self.graph_dict.setdefault(A, {})[B] = distance
        if not self.directed:
            self.graph_dict.setdefault(B, {})[A] = distance

    # Method to get neighbors of a city
    def get(self, a, b=None):
        links = self.graph_dict.setdefault(a, {})
        if b is None:
            return links
        else:
            return links.get(b)

# Function to read data from CSV file
def read_csv(filename):
    with open(filename, 'r') as csvfile:
        reader = csv.reader(csvfile)
        next(reader)
        data = [row for row in reader]
    return data

# Function to extract graph from the read CSV file's data
def extract_graph(data):
    graph = Graph()
    for row in data:
        origin, destination, distance = row
        graph.connect(origin, destination, int(distance))
    return graph

# Optionally we can manually define heuristic value
def heuristic(city, end_city):
    return 0

# A* search algorithm implementation
def astar_search(graph, start, end):
    open_list = []  # Priority queue to keep track of nodes to be explored
    heapq.heappush(open_list, (0, start, []))  # Initialize the priority queue with start node and path
    visited = set()  # Set to keep track of visited nodes

    while open_list:
        cost, current_city, path = heapq.heappop(open_list)  # Get the node with the lowest total cost from the priority queue

        if current_city == end:  # If the current node is the destination, return the path and total cost
            path.append(current_city)
            return path, cost

        if current_city not in visited:
            visited.add(current_city)  # Mark the current node as visited
            for neighbor, distance in graph.get(current_city).items():  # Explore neighbors of the current node
                total_cost = cost + distance + heuristic(neighbor, end)  # Calculate total cost for the neighbor
                heapq.heappush(open_list, (total_cost, neighbor, path + [current_city]))  # Add neighbor to the priority queue

    return None, float('inf')  # If no path is found, return None and infinite cost

# Main function to create widgets and handle button clicks
def main():
    # Read data from CSV file and extract the graph
    data = read_csv('indian-cities-dataset.csv')
    graph = extract_graph(data)

    # Extract and sort unique cities from the dataset
    unique_cities = sorted(set(row[0] for row in data))
    # Include None as the default option in the dropdown menus
    cities_list = [None] + unique_cities

    # Create labels, dropdowns, buttons, and output widget using ipywidgets
    start_label = widgets.Label('Select Start City:')
    start_city_dropdown = widgets.Dropdown(options=cities_list)
    end_label = widgets.Label('Select Destination City:')
    end_city_dropdown = widgets.Dropdown(options=cities_list)
    
    calculate_button = widgets.Button(description='Calculate')
    output = widgets.Output()

    # Function to handle button click event
    def on_calculate_button_click(b):
        start_city = start_city_dropdown.value
        end_city = end_city_dropdown.value
        
        if start_city is None or end_city is None:
            with output:
                print("Error: Please select both start and destination cities.")
        elif start_city == end_city:
            with output:
                print("Error: Start and destination cities cannot be the same.")
        else:
            # Call A* search algorithm and display the result
            path, total_distance = astar_search(graph, start_city, end_city)
            with output:
                if path:
                    print("Shortest route from {} to {} is: {}".format(start_city, end_city, ' -> '.join(path)))
                    print("Total Path Cost (in Km):", total_distance)
                else:
                    print("No path found.")

    # Attach the event handler function to the button click event
    calculate_button.on_click(on_calculate_button_click)
    
    # Display widgets using IPython display function
    display(start_label, start_city_dropdown, end_label, end_city_dropdown, calculate_button, output)

# Entry point of the program
if __name__ == "__main__":
    main()

