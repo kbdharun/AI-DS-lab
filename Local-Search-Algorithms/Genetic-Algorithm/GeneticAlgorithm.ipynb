{
 "cells": [
  {
   "cell_type": "markdown",
   "id": "f8b00394-7a5f-4c8b-b763-a24230a7f60f",
   "metadata": {},
   "source": [
    "Code credits - **Mukesh Prasanna**"
   ]
  },
  {
   "cell_type": "code",
   "execution_count": 1,
   "id": "743b392d-0a23-4e6c-be07-df716d1300bc",
   "metadata": {},
   "outputs": [
    {
     "name": "stdout",
     "output_type": "stream",
     "text": [
      "\n",
      "Most evolved state : 24748552 \n",
      "Generation : 1000 \n",
      "Attacks : 4\n",
      "\n",
      "Goal State : 17582463 \n",
      "Generation : 2\n"
     ]
    }
   ],
   "source": [
    "import random\n",
    "\n",
    "\n",
    "def mutate(board1, board2):\n",
    "    b1 = list(board1)\n",
    "    b2 = list(board2)\n",
    "\n",
    "    x = random.randint(0, 7)\n",
    "    b1[x], b2[x] = b2[x], b1[x]\n",
    "    y = random.randint(0, 7)\n",
    "    b1[y] = str(int(y)+1)\n",
    "\n",
    "    return (''.join(b1), ''.join(b2))\n",
    "\n",
    "\n",
    "def crossover(board1, board2):\n",
    "    x = random.randint(1, 7)\n",
    "    b1 = list(board1)\n",
    "    b2 = list(board2)\n",
    "    b1[0:x], b2[0:x] = b2[0:x], b1[0:x]\n",
    "    return (''.join(b1), ''.join(b2))\n",
    "\n",
    "\n",
    "def fitness(board):\n",
    "    attacks = 0\n",
    "    for i in range(8):\n",
    "        for j in range(i+1, 8):\n",
    "            if board[i] == board[j] or abs(int(board[i]) - int(board[j])) == j-i:\n",
    "                attacks += 1\n",
    "\n",
    "    return attacks\n",
    "\n",
    "\n",
    "def geneticAlgo(generations, initialPopulation):\n",
    "\n",
    "    i = 0\n",
    "    pq = []\n",
    "    pq.append((fitness(initialPopulation[0]), initialPopulation[0]))\n",
    "    pq.append((fitness(initialPopulation[1]), initialPopulation[1]))\n",
    "    while i < generations:\n",
    "        f1, b1 = pq.pop(0)\n",
    "        f2, b2 = pq.pop(0)\n",
    "        pq.clear()\n",
    "\n",
    "        if f1 == 0:\n",
    "            print('\\nGoal State :', b1, '\\nGeneration :', i+1)\n",
    "            return\n",
    "        elif f2 == 0:\n",
    "            print('\\nGoal State :', b2, '\\nGeneration :', i+1)\n",
    "            return\n",
    "\n",
    "        x1, x2 = crossover(b1, b2)\n",
    "        x3, x4 = crossover(b2, b1)\n",
    "\n",
    "        newPopulation = [(x1, x2), (x3, x4), mutate(x1, x2), mutate(x2, x1)]\n",
    "\n",
    "        for child in newPopulation:\n",
    "            pq.append((fitness(child[0]), child[0]))\n",
    "            pq.append((fitness(child[1]), child[1]))\n",
    "\n",
    "        pq.append((f1, b1))\n",
    "        pq.append((f2, b2))\n",
    "\n",
    "        pq.sort(key=lambda x: x[0])\n",
    "\n",
    "        i += 1\n",
    "\n",
    "    print('\\nMost evolved state :',\n",
    "          pq[0][1], '\\nGeneration :', i, '\\nAttacks :', pq[0][0])\n",
    "\n",
    "\n",
    "# print(fitness(\"17582463\"))\n",
    "\n",
    "geneticAlgo(1000, [\"32752411\", \"24748552\"])\n",
    "\n",
    "geneticAlgo(1000, [\"17581234\", \"56782463\"])"
   ]
  }
 ],
 "metadata": {
  "kernelspec": {
   "display_name": "Python 3 (ipykernel)",
   "language": "python",
   "name": "python3"
  },
  "language_info": {
   "codemirror_mode": {
    "name": "ipython",
    "version": 3
   },
   "file_extension": ".py",
   "mimetype": "text/x-python",
   "name": "python",
   "nbconvert_exporter": "python",
   "pygments_lexer": "ipython3",
   "version": "3.11.5"
  }
 },
 "nbformat": 4,
 "nbformat_minor": 5
}
