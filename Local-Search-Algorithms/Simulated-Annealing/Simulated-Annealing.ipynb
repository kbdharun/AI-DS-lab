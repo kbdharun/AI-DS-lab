{
 "cells": [
  {
   "cell_type": "code",
   "execution_count": 2,
   "id": "966a10cc",
   "metadata": {},
   "outputs": [
    {
     "name": "stdout",
     "output_type": "stream",
     "text": [
      "Solution state: None\n"
     ]
    }
   ],
   "source": [
    "import math\n",
    "import random\n",
    "\n",
    "def simulated_annealing(problem, schedule):\n",
    "    current = problem.initial_state()\n",
    "    for t in range(1, 10000):  # Use a large number instead of math.inf\n",
    "        T = schedule(t)\n",
    "        if T == 0:\n",
    "            return current\n",
    "        next_state = random.choice(problem.successors(current))\n",
    "        delta_E = problem.value(current) - problem.value(next_state)\n",
    "        if delta_E > 0 or random.random() < math.exp(delta_E / T):\n",
    "            current = next_state\n",
    "\n",
    "class Problem:\n",
    "    def __init__(self, initial_state, successors, value):\n",
    "        self.initial_state = initial_state\n",
    "        self.successors = successors\n",
    "        self.value = value\n",
    "\n",
    "def temperature_schedule(t):\n",
    "    # This is just a simple example schedule; you can define your own.\n",
    "    return 1.0 / t\n",
    "\n",
    "if __name__ == \"__main__\":\n",
    "    # Define your problem with initial state, successors, and value function.\n",
    "    def initial_state():\n",
    "        return 0\n",
    "\n",
    "    def successors(state):\n",
    "        return [state + 1, state - 1] if state != 10 else [state - 1]\n",
    "\n",
    "    def value(state):\n",
    "        return -abs(5 - state)  # Example value function to maximize the distance from 5.\n",
    "\n",
    "    problem = Problem(initial_state, successors, value)\n",
    "\n",
    "    result = simulated_annealing(problem, temperature_schedule)\n",
    "    print(\"Solution state:\", result)"
   ]
  },
  {
   "cell_type": "code",
   "execution_count": 3,
   "id": "36318c21",
   "metadata": {},
   "outputs": [
    {
     "name": "stdout",
     "output_type": "stream",
     "text": [
      "Solution state: -4992\n"
     ]
    }
   ],
   "source": [
    "import math\n",
    "import random\n",
    "\n",
    "def simulated_annealing(problem, schedule):\n",
    "    current = problem.initial_state()\n",
    "    for t in range(1, 10000):  # Use a large number instead of math.inf\n",
    "        T = schedule(t)\n",
    "        if T == 0:\n",
    "            return current\n",
    "        next_state = random.choice(problem.successors(current))\n",
    "        delta_E = problem.value(current) - problem.value(next_state)\n",
    "        if delta_E > 0 or random.random() < math.exp(delta_E / T):\n",
    "            current = next_state\n",
    "    return current  # Return the current state as a solution if no better state is found\n",
    "\n",
    "class Problem:\n",
    "    def __init__(self, initial_state, successors, value):\n",
    "        self.initial_state = initial_state\n",
    "        self.successors = successors\n",
    "        self.value = value\n",
    "\n",
    "def temperature_schedule(t):\n",
    "    # This is just a simple example schedule; you can define your own.\n",
    "    return 1.0 / t\n",
    "\n",
    "if __name__ == \"__main__\":\n",
    "    # Define your problem with initial state, successors, and value function.\n",
    "    def initial_state():\n",
    "        return 0\n",
    "\n",
    "    def successors(state):\n",
    "        return [state + 1, state - 1] if state != 10 else [state - 1]\n",
    "\n",
    "    def value(state):\n",
    "        return -abs(5 - state)  # Example value function to maximize the distance from 5.\n",
    "\n",
    "    problem = Problem(initial_state, successors, value)\n",
    "\n",
    "    result = simulated_annealing(problem, temperature_schedule)\n",
    "    print(\"Solution state:\", result)"
   ]
  }
 ],
 "metadata": {
  "kernelspec": {
   "display_name": "Python 3 (ipykernel)",
   "language": "python",
   "name": "python3"
  },
  "language_info": {
   "codemirror_mode": {
    "name": "ipython",
    "version": 3
   },
   "file_extension": ".py",
   "mimetype": "text/x-python",
   "name": "python",
   "nbconvert_exporter": "python",
   "pygments_lexer": "ipython3",
   "version": "3.11.5"
  }
 },
 "nbformat": 4,
 "nbformat_minor": 5
}
