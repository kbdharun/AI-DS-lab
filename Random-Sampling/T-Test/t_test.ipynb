{
 "cells": [
  {
   "cell_type": "markdown",
   "id": "3bc76b79-5ad8-4cb7-84d4-86425a82eed1",
   "metadata": {},
   "source": [
    "Code credits - **Mukesh Prasanna**"
   ]
  },
  {
   "cell_type": "code",
   "execution_count": 1,
   "id": "99ea398b-a99e-4f8a-8ce5-c3fd7d02a152",
   "metadata": {},
   "outputs": [],
   "source": [
    "import numpy as np\n",
    "import pandas as pd\n",
    "import random"
   ]
  },
  {
   "cell_type": "code",
   "execution_count": 6,
   "id": "3085f79e-93e2-490b-9811-ea681cddacc7",
   "metadata": {},
   "outputs": [
    {
     "data": {
      "text/html": [
       "<div>\n",
       "<style scoped>\n",
       "    .dataframe tbody tr th:only-of-type {\n",
       "        vertical-align: middle;\n",
       "    }\n",
       "\n",
       "    .dataframe tbody tr th {\n",
       "        vertical-align: top;\n",
       "    }\n",
       "\n",
       "    .dataframe thead th {\n",
       "        text-align: right;\n",
       "    }\n",
       "</style>\n",
       "<table border=\"1\" class=\"dataframe\">\n",
       "  <thead>\n",
       "    <tr style=\"text-align: right;\">\n",
       "      <th></th>\n",
       "      <th>number_courses</th>\n",
       "      <th>time_study</th>\n",
       "      <th>Marks</th>\n",
       "    </tr>\n",
       "  </thead>\n",
       "  <tbody>\n",
       "    <tr>\n",
       "      <th>0</th>\n",
       "      <td>3</td>\n",
       "      <td>4.508</td>\n",
       "      <td>19.202</td>\n",
       "    </tr>\n",
       "    <tr>\n",
       "      <th>1</th>\n",
       "      <td>4</td>\n",
       "      <td>0.096</td>\n",
       "      <td>7.734</td>\n",
       "    </tr>\n",
       "    <tr>\n",
       "      <th>2</th>\n",
       "      <td>4</td>\n",
       "      <td>3.133</td>\n",
       "      <td>13.811</td>\n",
       "    </tr>\n",
       "    <tr>\n",
       "      <th>3</th>\n",
       "      <td>6</td>\n",
       "      <td>7.909</td>\n",
       "      <td>53.018</td>\n",
       "    </tr>\n",
       "    <tr>\n",
       "      <th>4</th>\n",
       "      <td>8</td>\n",
       "      <td>7.811</td>\n",
       "      <td>55.299</td>\n",
       "    </tr>\n",
       "  </tbody>\n",
       "</table>\n",
       "</div>"
      ],
      "text/plain": [
       "   number_courses  time_study   Marks\n",
       "0               3       4.508  19.202\n",
       "1               4       0.096   7.734\n",
       "2               4       3.133  13.811\n",
       "3               6       7.909  53.018\n",
       "4               8       7.811  55.299"
      ]
     },
     "execution_count": 6,
     "metadata": {},
     "output_type": "execute_result"
    }
   ],
   "source": [
    "data = pd.read_csv('dataset.csv')\n",
    "\n",
    "data.head()"
   ]
  },
  {
   "cell_type": "code",
   "execution_count": 4,
   "id": "988daf75-9279-4dc1-aa45-0a784360c9fb",
   "metadata": {},
   "outputs": [],
   "source": [
    "marks = data['Marks'].to_numpy()"
   ]
  },
  {
   "cell_type": "code",
   "execution_count": 5,
   "id": "2496958d-45d2-4c43-9192-206ac5b6bd34",
   "metadata": {},
   "outputs": [
    {
     "data": {
      "text/plain": [
       "24.417689999999997"
      ]
     },
     "execution_count": 5,
     "metadata": {},
     "output_type": "execute_result"
    }
   ],
   "source": [
    "popmean = np.mean(marks)\n",
    "popmean"
   ]
  },
  {
   "cell_type": "code",
   "execution_count": 7,
   "id": "089a282e-bf83-4f7f-9ea3-dfd70a5750f6",
   "metadata": {},
   "outputs": [],
   "source": [
    "def sample(population) :\n",
    "    x = random.randint(0,79)\n",
    "    return population[x:x+20]"
   ]
  },
  {
   "cell_type": "code",
   "execution_count": 8,
   "id": "69395b95-47ce-49b9-ab52-b9d9f01fd2ec",
   "metadata": {},
   "outputs": [],
   "source": [
    "samp1 = sample(marks)\n",
    "samp2 = sample(marks)\n",
    "samp3 = sample(marks)"
   ]
  },
  {
   "cell_type": "code",
   "execution_count": 9,
   "id": "7406af62-f324-4e6a-91fc-c89f5b1b68c9",
   "metadata": {},
   "outputs": [],
   "source": [
    "s1mean = np.mean(samp1)\n",
    "s2mean = np.mean(samp2)\n",
    "s3mean = np.mean(samp3)"
   ]
  },
  {
   "cell_type": "code",
   "execution_count": 10,
   "id": "7df637c5-db2a-4b42-8612-690bef58b050",
   "metadata": {},
   "outputs": [],
   "source": [
    "s1std = np.std(samp1)\n",
    "s2std = np.std(samp2)\n",
    "s3std = np.std(samp3)"
   ]
  },
  {
   "cell_type": "code",
   "execution_count": 11,
   "id": "41e41cd0-c5d4-4964-b21e-abd3075f34e3",
   "metadata": {},
   "outputs": [
    {
     "data": {
      "text/plain": [
       "-0.14515824892373488"
      ]
     },
     "execution_count": 11,
     "metadata": {},
     "output_type": "execute_result"
    }
   ],
   "source": [
    "t1score = (s1mean-popmean)*(len(samp1))**0.5/s1std\n",
    "t1score"
   ]
  },
  {
   "cell_type": "code",
   "execution_count": 12,
   "id": "0b67b468-ac4f-43a4-8505-b829153a677d",
   "metadata": {},
   "outputs": [
    {
     "data": {
      "text/plain": [
       "-0.6905317657755397"
      ]
     },
     "execution_count": 12,
     "metadata": {},
     "output_type": "execute_result"
    }
   ],
   "source": [
    "t2score = (s2mean-popmean)*(len(samp2))**0.5/s2std\n",
    "t2score"
   ]
  },
  {
   "cell_type": "code",
   "execution_count": 13,
   "id": "edf1c8c0-5fd3-4c07-b0c9-ebc7bc407957",
   "metadata": {},
   "outputs": [
    {
     "data": {
      "text/plain": [
       "0.14699684431459858"
      ]
     },
     "execution_count": 13,
     "metadata": {},
     "output_type": "execute_result"
    }
   ],
   "source": [
    "t3score = (s3mean-popmean)*(len(samp3))**0.5/s3std\n",
    "t3score"
   ]
  }
 ],
 "metadata": {
  "kernelspec": {
   "display_name": "Python 3 (ipykernel)",
   "language": "python",
   "name": "python3"
  },
  "language_info": {
   "codemirror_mode": {
    "name": "ipython",
    "version": 3
   },
   "file_extension": ".py",
   "mimetype": "text/x-python",
   "name": "python",
   "nbconvert_exporter": "python",
   "pygments_lexer": "ipython3",
   "version": "3.11.6"
  }
 },
 "nbformat": 4,
 "nbformat_minor": 5
}
