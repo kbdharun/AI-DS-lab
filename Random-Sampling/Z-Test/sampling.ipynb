{
 "cells": [
  {
   "cell_type": "markdown",
   "id": "9842c44f-d14f-47dd-b4a6-db90b3cdc87a",
   "metadata": {},
   "source": [
    "Code credits - **Mukesh Prasanna**"
   ]
  },
  {
   "cell_type": "code",
   "execution_count": 125,
   "id": "9a314837",
   "metadata": {},
   "outputs": [],
   "source": [
    "import numpy as np\n",
    "import pandas as pd\n",
    "import matplotlib.pyplot as plt\n",
    "import seaborn as sns\n",
    "import math\n",
    "from scipy.stats import norm"
   ]
  },
  {
   "cell_type": "markdown",
   "id": "f92e604f",
   "metadata": {},
   "source": [
    "# Visualization"
   ]
  },
  {
   "cell_type": "code",
   "execution_count": 126,
   "id": "6501b7f5",
   "metadata": {},
   "outputs": [
    {
     "data": {
      "image/png": "[encoded data removed]",
      "text/plain": [
       "<Figure size 432x288 with 1 Axes>"
      ]
     },
     "metadata": {
      "needs_background": "light"
     },
     "output_type": "display_data"
    },
    {
     "data": {
      "image/png": "[encoded data removed]",
      "text/plain": [
       "<Figure size 432x288 with 1 Axes>"
      ]
     },
     "metadata": {
      "needs_background": "light"
     },
     "output_type": "display_data"
    }
   ],
   "source": [
    "marks = pd.read_csv('marks.csv')\n",
    "sns.kdeplot(marks['Marks'], shade=True)\n",
    "\n",
    "plt.xlabel(\"Marks\")\n",
    "plt.ylabel(\"Density\")\n",
    "plt.title(\"Prob distribution\")\n",
    "plt.show()\n",
    "\n",
    "plt.hist(marks['Marks'])\n",
    "plt.xlabel(\"Marks\")\n",
    "plt.ylabel(\"Freq\")\n",
    "plt.title(\"Histogram\")\n",
    "plt.show()"
   ]
  },
  {
   "cell_type": "markdown",
   "id": "26a18e77",
   "metadata": {},
   "source": [
    "# Sample Data"
   ]
  },
  {
   "cell_type": "code",
   "execution_count": 127,
   "id": "937d1b9b",
   "metadata": {},
   "outputs": [
    {
     "data": {
      "text/plain": [
       "array([19.202,  7.734, 13.811, 53.018, 55.299, 17.822, 29.889, 17.264,\n",
       "       20.348, 30.862, 42.036, 12.132, 24.318, 17.672, 11.397, 19.466,\n",
       "       30.548, 38.49 , 50.986, 25.133, 22.073, 35.939, 12.209, 28.043,\n",
       "       16.517,  6.623, 12.647, 26.532,  9.333,  8.837, 24.172,  8.1  ,\n",
       "       15.038, 39.965, 17.171, 43.978, 13.119, 46.453, 41.358, 51.142,\n",
       "        7.336, 15.725, 19.771, 10.429,  9.742,  8.924, 16.703, 22.701,\n",
       "       26.882, 19.106, 40.602, 22.184,  7.892, 36.653, 53.158, 18.238,\n",
       "       53.359, 51.583, 31.236, 51.343, 10.522, 10.844, 19.59 , 21.379,\n",
       "       12.591, 13.562, 27.569,  6.185,  8.92 , 21.4  , 16.606, 13.416,\n",
       "       20.398,  7.014, 39.952,  6.217, 36.746, 38.278, 49.544,  6.349,\n",
       "       54.321, 17.705, 44.099, 16.106, 16.461, 39.957, 23.149,  6.053,\n",
       "       11.253, 40.024, 24.394, 19.564, 23.916, 42.426, 24.451, 19.128,\n",
       "        5.609, 41.444, 12.027, 32.357])"
      ]
     },
     "execution_count": 127,
     "metadata": {},
     "output_type": "execute_result"
    }
   ],
   "source": [
    "combined = pd.read_csv('marks.csv')\n",
    "combined_vals = combined['Marks'].to_numpy()\n",
    "combined_vals"
   ]
  },
  {
   "cell_type": "code",
   "execution_count": 128,
   "id": "b9faadae",
   "metadata": {},
   "outputs": [],
   "source": [
    "samp1 = combined_vals[np.where(np.arange(len(combined_vals)) % 3 == 0)]\n",
    "samp2 = combined_vals[np.where(np.arange(len(combined_vals)) % 3 == 1)]\n",
    "samp3 = combined_vals[np.where(np.arange(len(combined_vals)) % 3 == 2)]\n"
   ]
  },
  {
   "cell_type": "code",
   "execution_count": 129,
   "id": "928b1571",
   "metadata": {},
   "outputs": [
    {
     "name": "stdout",
     "output_type": "stream",
     "text": [
      "Population Mean : 24.417689999999997\n",
      "Standard Deviation  : 14.254387599399\n"
     ]
    }
   ],
   "source": [
    "stud_marks = marks['Marks'].to_numpy()\n",
    "mu = np.mean(stud_marks)\n",
    "sigma = np.std(stud_marks)\n",
    "print('Population Mean :', mu)\n",
    "print('Standard Deviation  :', sigma)"
   ]
  },
  {
   "cell_type": "code",
   "execution_count": 130,
   "id": "ab494a49",
   "metadata": {},
   "outputs": [
    {
     "data": {
      "text/plain": [
       "1.07633719285961"
      ]
     },
     "execution_count": 130,
     "metadata": {},
     "output_type": "execute_result"
    }
   ],
   "source": [
    "#For sample 1\n",
    "x1 = np.mean(samp1)\n",
    "z1 = (x1-mu)*(34**0.5)/sigma\n",
    "z1"
   ]
  },
  {
   "cell_type": "code",
   "execution_count": 131,
   "id": "01a17dc1",
   "metadata": {},
   "outputs": [
    {
     "data": {
      "text/plain": [
       "-1.4919147337146597"
      ]
     },
     "execution_count": 131,
     "metadata": {},
     "output_type": "execute_result"
    }
   ],
   "source": [
    "#For sample 2\n",
    "\n",
    "x2 = np.mean(samp2)\n",
    "z2 = (x2-mu)*(33**0.5)/sigma\n",
    "z2"
   ]
  },
  {
   "cell_type": "code",
   "execution_count": 132,
   "id": "2d266646",
   "metadata": {},
   "outputs": [
    {
     "data": {
      "text/plain": [
       "0.3993911108798588"
      ]
     },
     "execution_count": 132,
     "metadata": {},
     "output_type": "execute_result"
    }
   ],
   "source": [
    "#For sample 3\n",
    "\n",
    "x3 = np.mean(samp3)\n",
    "z3 = (x3-mu)*(33**0.5)/sigma\n",
    "z3"
   ]
  },
  {
   "cell_type": "code",
   "execution_count": 133,
   "id": "4998e994",
   "metadata": {},
   "outputs": [
    {
     "name": "stdout",
     "output_type": "stream",
     "text": [
      "Sample 1 : 0.8591117597228222\n",
      "Sample 2 : 0.0678607498266116\n",
      "Sample 3 : 0.6551974786333284\n"
     ]
    }
   ],
   "source": [
    "print('Sample 1 :',norm.cdf(z1))\n",
    "print('Sample 2 :',norm.cdf(z2))\n",
    "print('Sample 3 :',norm.cdf(z3))"
   ]
  }
 ],
 "metadata": {
  "kernelspec": {
   "display_name": "Python 3 (ipykernel)",
   "language": "python",
   "name": "python3"
  },
  "language_info": {
   "codemirror_mode": {
    "name": "ipython",
    "version": 3
   },
   "file_extension": ".py",
   "mimetype": "text/x-python",
   "name": "python",
   "nbconvert_exporter": "python",
   "pygments_lexer": "ipython3",
   "version": "3.11.6"
  }
 },
 "nbformat": 4,
 "nbformat_minor": 5
}
