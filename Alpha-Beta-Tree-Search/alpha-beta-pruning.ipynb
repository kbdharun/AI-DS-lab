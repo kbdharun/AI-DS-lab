{
 "cells": [
  {
   "cell_type": "code",
   "execution_count": 13,
   "id": "66ebb583",
   "metadata": {},
   "outputs": [
    {
     "name": "stdout",
     "output_type": "stream",
     "text": [
      "Node: A, Alpha: -inf, Beta: inf\n",
      "Enter utility value for node D: 3\n",
      "Node: B, Alpha: -inf, Beta: 3\n",
      "Enter utility value for node E: 1\n",
      "Node: B, Alpha: -inf, Beta: 1\n",
      "Node: A, Alpha: 1, Beta: inf\n",
      "Enter utility value for node F: 5\n",
      "Node: C, Alpha: 1, Beta: 5\n",
      "Enter utility value for node G: 2\n",
      "Node: C, Alpha: 1, Beta: 2\n",
      "Node: A, Alpha: 2, Beta: inf\n",
      "Alpha-Beta search result: 2\n"
     ]
    },
    {
     "data": {
      "image/png": "[encoded data removed]",
      "text/plain": [
       "<Figure size 432x288 with 1 Axes>"
      ]
     },
     "metadata": {},
     "output_type": "display_data"
    }
   ],
   "source": [
    "import networkx as nx\n",
    "import matplotlib.pyplot as plt\n",
    "\n",
    "# Define the tree structure as a dictionary where each node has a name and a list of children nodes\n",
    "tree = {\n",
    "    'A': ['B', 'C'],\n",
    "    'B': ['D', 'E'],\n",
    "    'C': ['F', 'G'],\n",
    "    'D': [],\n",
    "    'E': [],\n",
    "    'F': [],\n",
    "    'G': []\n",
    "}\n",
    "\n",
    "def alpha_beta_search(node, alpha, beta, G):\n",
    "    if not tree[node]:\n",
    "        # Leaf node, return its value\n",
    "        return int(input(f\"Enter utility value for node {node}: \"))\n",
    "\n",
    "    if node == 'A':\n",
    "        print(f\"Node: {node}, Alpha: {alpha}, Beta: {beta}\")\n",
    "    \n",
    "    if node == 'A':\n",
    "        value = max_value(node, alpha, beta, G)\n",
    "    else:\n",
    "        value = min_value(node, alpha, beta, G)\n",
    "\n",
    "    return value\n",
    "\n",
    "def max_value(node, alpha, beta, G):\n",
    "    v = float('-inf')\n",
    "    \n",
    "    for child in tree[node]:\n",
    "        G.add_edge(node, child)\n",
    "        v = max(v, alpha_beta_search(child, alpha, beta, G))\n",
    "        alpha = max(alpha, v)\n",
    "        \n",
    "        if v >= beta:\n",
    "            print(f\"Node: {node}, Alpha: {alpha}, Beta: {beta}, Pruned\")\n",
    "            return v\n",
    "        \n",
    "        print(f\"Node: {node}, Alpha: {alpha}, Beta: {beta}\")\n",
    "\n",
    "    return v\n",
    "\n",
    "def min_value(node, alpha, beta, G):\n",
    "    v = float('inf')\n",
    "    \n",
    "    for child in tree[node]:\n",
    "        G.add_edge(node, child)\n",
    "        v = min(v, alpha_beta_search(child, alpha, beta, G))\n",
    "        beta = min(beta, v)\n",
    "        \n",
    "        if v <= alpha:\n",
    "            print(f\"Node: {node}, Alpha: {alpha}, Beta: {beta}, Pruned\")\n",
    "            return v\n",
    "        \n",
    "        print(f\"Node: {node}, Alpha: {alpha}, Beta: {beta}\")\n",
    "\n",
    "    return v\n",
    "\n",
    "# Create a directed graph to visualize the tree\n",
    "G = nx.DiGraph()\n",
    "root_node = 'A'\n",
    "alpha = float('-inf')\n",
    "beta = float('inf')\n",
    "\n",
    "result = alpha_beta_search(root_node, alpha, beta, G)\n",
    "print(f\"Alpha-Beta search result: {result}\")\n",
    "\n",
    "# Visualize the tree using shell_layout\n",
    "pos = nx.shell_layout(G)\n",
    "nx.draw(G, pos, with_labels=True, node_size=500, node_color='lightblue', font_size=10, font_color='black', arrowsize=10)\n",
    "plt.show()"
   ]
  }
 ],
 "metadata": {
  "kernelspec": {
   "display_name": "Python 3",
   "language": "python",
   "name": "python3"
  },
  "language_info": {
   "codemirror_mode": {
    "name": "ipython",
    "version": 3
   },
   "file_extension": ".py",
   "mimetype": "text/x-python",
   "name": "python",
   "nbconvert_exporter": "python",
   "pygments_lexer": "ipython3",
   "version": "3.8.8"
  }
 },
 "nbformat": 4,
 "nbformat_minor": 5
}
