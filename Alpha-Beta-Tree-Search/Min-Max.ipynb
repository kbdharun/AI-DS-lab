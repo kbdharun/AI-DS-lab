{
 "cells": [
  {
   "cell_type": "markdown",
   "id": "0bc7c737-df9f-422e-aa60-e3f818412126",
   "metadata": {},
   "source": [
    "## Min Max\n",
    "\n",
    "**Code Credits**: Gokul N"
   ]
  },
  {
   "cell_type": "code",
   "execution_count": 6,
   "id": "1bc7c4f1-16e3-41bc-ae3b-1bd599202953",
   "metadata": {},
   "outputs": [
    {
     "name": "stdout",
     "output_type": "stream",
     "text": [
      "The value is : 3\n"
     ]
    }
   ],
   "source": [
    "import numpy as np\n",
    "MIN=float(\"-inf\")\n",
    "MAX=float(\"inf\")\n",
    "def minimax(depth, index, maximizingPlayer,values, alpha, beta):\n",
    "    if depth == 0:\n",
    "        return values[index]\n",
    "\n",
    "\n",
    "    if maximizingPlayer:\n",
    "        optimum = MIN\n",
    "        for i in range(0, 2):\n",
    "            val = minimax(depth - 1, index * 2 + i,False, values, alpha, beta)\n",
    "            optimum = max(optimum, val)\n",
    "\n",
    "        return optimum\n",
    "\n",
    "    else:\n",
    "        optimum = MAX\n",
    "        for i in range(0, 2):\n",
    "          val = minimax(depth - 1, index * 2 + i,True, values, alpha, beta)\n",
    "          optimum = min(optimum, val)\n",
    "        return optimum\n",
    "\n",
    "\n",
    "# Driver Code\n",
    "if __name__ == \"__main__\":\n",
    "    values = [2,3,5,9,0,1,7,5]\n",
    "    dep=int(np.log2(len(values)))\n",
    "    print(\"The value is :\", minimax(dep, 0, True, values, MIN, MAX))"
   ]
  }
 ],
 "metadata": {
  "kernelspec": {
   "display_name": "Python 3 (ipykernel)",
   "language": "python",
   "name": "python3"
  },
  "language_info": {
   "codemirror_mode": {
    "name": "ipython",
    "version": 3
   },
   "file_extension": ".py",
   "mimetype": "text/x-python",
   "name": "python",
   "nbconvert_exporter": "python",
   "pygments_lexer": "ipython3",
   "version": "3.10.12"
  }
 },
 "nbformat": 4,
 "nbformat_minor": 5
}
