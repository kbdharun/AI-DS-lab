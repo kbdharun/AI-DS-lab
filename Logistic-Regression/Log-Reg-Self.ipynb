{
 "cells": [
  {
   "cell_type": "code",
   "execution_count": 1,
   "id": "5648240a-d74b-49f9-b94f-eb2a4b60f8af",
   "metadata": {
    "tags": []
   },
   "outputs": [
    {
     "name": "stdout",
     "output_type": "stream",
     "text": [
      "Accuracy: 0.5\n"
     ]
    }
   ],
   "source": [
    "import pandas as pd\n",
    "import numpy as np\n",
    "from sklearn.linear_model import LogisticRegression\n",
    "\n",
    "dict1 = {'X': [2000, 4800, 3100, 2821, 1828, 700], 'Y': [1, 1, 1, 0, 0, 0]}\n",
    "\n",
    "data = pd.DataFrame(dict1)\n",
    "\n",
    "# Convert the dependent variable (Y) to binary values\n",
    "data['Y'] = data['Y'].astype('int')\n",
    "\n",
    "# Create the logistic regression model\n",
    "model = LogisticRegression()\n",
    "\n",
    "# Fit the model on the entire data\n",
    "model.fit(data['X'], data['Y'])\n",
    "\n",
    "# Make predictions on the entire data\n",
    "y_pred = model.predict(data['X'])\n",
    "\n",
    "# Evaluate the model's performance\n",
    "from sklearn.metrics import accuracy_score\n",
    "\n",
    "accuracy = accuracy_score(data['Y'], y_pred)\n",
    "print('Accuracy:', accuracy)\n"
   ]
  },
  {
   "cell_type": "code",
   "execution_count": 2,
   "id": "bb94c756-4a72-478f-8600-e1a63ba35e41",
   "metadata": {
    "tags": []
   },
   "outputs": [
    {
     "name": "stdout",
     "output_type": "stream",
     "text": [
      "Accuracy: 0.5\n"
     ]
    },
    {
     "name": "stderr",
     "output_type": "stream",
     "text": [
      "/tmp/ipykernel_1227428/3945658236.py:5: RuntimeWarning: overflow encountered in exp\n",
      "  return 1 / (1 + np.exp(-x))\n"
     ]
    }
   ],
   "source": [
    "import pandas as pd\n",
    "import numpy as np\n",
    "\n",
    "def sigmoid(x):\n",
    "    return 1 / (1 + np.exp(-x))\n",
    "\n",
    "def logistic_regression(X, y, learning_rate, num_iterations):\n",
    "    theta = np.zeros(X.shape[1])  # Initialize weights\n",
    "\n",
    "    for _ in range(num_iterations):\n",
    "        z = np.dot(X, theta)\n",
    "        y_pred = sigmoid(z)\n",
    "\n",
    "        error = y_pred - y\n",
    "        gradient = np.dot(X.T, error)\n",
    "\n",
    "        theta -= learning_rate * gradient\n",
    "\n",
    "    return theta\n",
    "\n",
    "# Load the data\n",
    "dict1 = {'X': [2000, 4800, 3100, 2821, 1828, 700], 'Y': [1, 1, 1, 0, 0, 0]}\n",
    "data = pd.DataFrame(dict1)\n",
    "\n",
    "# Convert the dependent variable (Y) to binary values\n",
    "data['Y'] = data['Y'].astype('int')\n",
    "\n",
    "# Prepare the data\n",
    "X = data['X'].values.reshape(-1, 1)  # Convert X to a 2D array\n",
    "y = data['Y'].values\n",
    "\n",
    "# Define hyperparameters\n",
    "learning_rate = 0.1\n",
    "num_iterations = 100\n",
    "\n",
    "# Train the model\n",
    "theta = logistic_regression(X, y, learning_rate, num_iterations)\n",
    "\n",
    "# Make predictions\n",
    "z = np.dot(X, theta)\n",
    "y_pred = sigmoid(z)\n",
    "\n",
    "# Evaluate the model's performance\n",
    "accuracy = np.mean(y_pred == y)\n",
    "print('Accuracy:', accuracy)\n"
   ]
  }
 ],
 "metadata": {
  "kernelspec": {
   "display_name": "Python 3 (ipykernel)",
   "language": "python",
   "name": "python3"
  },
  "language_info": {
   "codemirror_mode": {
    "name": "ipython",
    "version": 3
   },
   "file_extension": ".py",
   "mimetype": "text/x-python",
   "name": "python",
   "nbconvert_exporter": "python",
   "pygments_lexer": "ipython3",
   "version": "3.10.12"
  }
 },
 "nbformat": 4,
 "nbformat_minor": 5
}
