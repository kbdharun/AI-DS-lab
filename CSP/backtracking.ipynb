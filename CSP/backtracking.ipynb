{
 "cells": [
  {
   "cell_type": "markdown",
   "id": "4d114855-3c47-401f-a144-85cf67b087c8",
   "metadata": {},
   "source": [
    "## Constraint Satisfaction Problem (Backtracking)\n",
    "\n",
    "Do not write in record"
   ]
  },
  {
   "cell_type": "code",
   "execution_count": 23,
   "id": "f1d7c372-0f85-4276-b8a7-31bc633f8a1b",
   "metadata": {},
   "outputs": [
    {
     "name": "stdout",
     "output_type": "stream",
     "text": [
      "Found 2 solutions:\n",
      "Solution 1:\n",
      ". . Q .\n",
      "Q . . .\n",
      ". . . Q\n",
      ". Q . .\n"
     ]
    },
    {
     "data": {
      "image/png": "[encoded data removed]",
      "text/plain": [
       "<Figure size 640x480 with 1 Axes>"
      ]
     },
     "metadata": {},
     "output_type": "display_data"
    },
    {
     "name": "stdout",
     "output_type": "stream",
     "text": [
      "Queens placed in each column: [1, 3, 0, 2]\n",
      "Solution 2:\n",
      ". Q . .\n",
      ". . . Q\n",
      "Q . . .\n",
      ". . Q .\n"
     ]
    },
    {
     "data": {
      "image/png": "[encoded data removed]",
      "text/plain": [
       "<Figure size 640x480 with 1 Axes>"
      ]
     },
     "metadata": {},
     "output_type": "display_data"
    },
    {
     "name": "stdout",
     "output_type": "stream",
     "text": [
      "Queens placed in each column: [2, 0, 3, 1]\n"
     ]
    }
   ],
   "source": [
    "import matplotlib.pyplot as plt\n",
    "\n",
    "def is_safe(board, row, col):\n",
    "    # Check if no other queen can attack this position\n",
    "    for i in range(col):\n",
    "        if board[i] == row or \\\n",
    "           board[i] - i == row - col or \\\n",
    "           board[i] + i == row + col:\n",
    "            return False\n",
    "    return True\n",
    "\n",
    "def solve_n_queens(n):\n",
    "    def backtrack(col):\n",
    "        if col == n:\n",
    "            solutions.append(list(board[:]))\n",
    "        else:\n",
    "            for row in range(n):\n",
    "                if is_safe(board, row, col):\n",
    "                    board[col] = row\n",
    "                    backtrack(col + 1)\n",
    "\n",
    "    board = [-1] * n\n",
    "    solutions = []\n",
    "    backtrack(0)\n",
    "    return solutions\n",
    "\n",
    "def visualize_solution(solution):\n",
    "    n = len(solution)\n",
    "    chessboard = [[\".\" for _ in range(n)] for _ in range(n)]\n",
    "\n",
    "    for col, row in enumerate(solution):\n",
    "        chessboard[row][col] = \"Q\"\n",
    "\n",
    "    for row in chessboard:\n",
    "        print(\" \".join(row))\n",
    "    \n",
    "    plt.imshow([[0 if cell == \".\" else 1 for cell in row] for row in chessboard], cmap='binary')\n",
    "    plt.xticks([])\n",
    "    plt.yticks([])\n",
    "    plt.show()\n",
    "\n",
    "if __name__ == \"__main__\":\n",
    "    n = 4 # No of queens\n",
    "    solutions = solve_n_queens(n)\n",
    "    \n",
    "    if solutions:\n",
    "        print(f\"Found {len(solutions)} solutions:\")\n",
    "        for i, solution in enumerate(solutions):\n",
    "            print(f\"Solution {i + 1}:\")\n",
    "            visualize_solution(solution)\n",
    "            print(\"Queens placed in each column:\", solution)\n",
    "    else:\n",
    "        print(\"No solutions found.\")\n"
   ]
  }
 ],
 "metadata": {
  "kernelspec": {
   "display_name": "Python 3 (ipykernel)",
   "language": "python",
   "name": "python3"
  },
  "language_info": {
   "codemirror_mode": {
    "name": "ipython",
    "version": 3
   },
   "file_extension": ".py",
   "mimetype": "text/x-python",
   "name": "python",
   "nbconvert_exporter": "python",
   "pygments_lexer": "ipython3",
   "version": "3.10.12"
  }
 },
 "nbformat": 4,
 "nbformat_minor": 5
}
