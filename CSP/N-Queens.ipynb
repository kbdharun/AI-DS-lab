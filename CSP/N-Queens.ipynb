{
 "cells": [
  {
   "cell_type": "markdown",
   "id": "69f64642-9907-4f2a-98ab-7e7202678214",
   "metadata": {},
   "source": [
    "# N Queens Problem\n",
    "\n",
    "Code credits - **[Mudit Golchha](https://github.com/mudit2004/AIDS)**"
   ]
  },
  {
   "cell_type": "code",
   "execution_count": 1,
   "id": "e2db7e14",
   "metadata": {
    "id": "e2db7e14",
    "outputId": "89181a87-3c8b-4937-e39b-03eba597361d"
   },
   "outputs": [
    {
     "name": "stdout",
     "output_type": "stream",
     "text": [
      "[1, 3, 0, 2]\n",
      "[2, 0, 3, 1]\n"
     ]
    }
   ],
   "source": [
    "# Note: We have used 4 queens for this output\n",
    "def solve_four_queens():\n",
    "    def is_safe(board, row, col):\n",
    "        for i in range(row):\n",
    "            if board[i] == col or \\\n",
    "               board[i] - i == col - row or \\\n",
    "               board[i] + i == col + row:\n",
    "                return False\n",
    "        return True\n",
    "\n",
    "    def backtrack(board, row):\n",
    "        if row == 4:\n",
    "            print(board)\n",
    "            return\n",
    "\n",
    "        for col in range(4):\n",
    "            if is_safe(board, row, col):\n",
    "                board[row] = col\n",
    "                backtrack(board, row + 1)\n",
    "\n",
    "    board = [-1, -1, -1, -1]\n",
    "    backtrack(board, 0)\n",
    "\n",
    "solve_four_queens()"
   ]
  }
 ],
 "metadata": {
  "colab": {
   "provenance": []
  },
  "kernelspec": {
   "display_name": "Python 3 (ipykernel)",
   "language": "python",
   "name": "python3"
  },
  "language_info": {
   "codemirror_mode": {
    "name": "ipython",
    "version": 3
   },
   "file_extension": ".py",
   "mimetype": "text/x-python",
   "name": "python",
   "nbconvert_exporter": "python",
   "pygments_lexer": "ipython3",
   "version": "3.10.12"
  }
 },
 "nbformat": 4,
 "nbformat_minor": 5
}
