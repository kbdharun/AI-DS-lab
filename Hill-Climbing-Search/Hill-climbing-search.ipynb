{
 "cells": [
  {
   "cell_type": "code",
   "execution_count": 1,
   "id": "62bae7bf",
   "metadata": {},
   "outputs": [
    {
     "name": "stdout",
     "output_type": "stream",
     "text": [
      "Local Maximum Reached: 1\n"
     ]
    }
   ],
   "source": [
    "import random\n",
    "\n",
    "def hill_climbing(problem, initial_state, goal_state):\n",
    "    current = initial_state\n",
    "    while True:\n",
    "        neighbors = problem.get_successors(current)\n",
    "        if not neighbors:\n",
    "            return \"Failure: Goal state not reached\"\n",
    "        \n",
    "        neighbor = max(neighbors, key=lambda state: problem.heuristic(state, goal_state))\n",
    "        \n",
    "        if problem.heuristic(neighbor, goal_state) <= problem.heuristic(current, goal_state):\n",
    "            return current\n",
    "        \n",
    "        current = neighbor\n",
    "\n",
    "class Problem:\n",
    "    def __init__(self, graph):\n",
    "        self.graph = graph\n",
    "    \n",
    "    def get_successors(self, state):\n",
    "        return self.graph[state]\n",
    "    \n",
    "    def heuristic(self, state, goal_state):\n",
    "        # In this example, the heuristic is simply the distance to the goal state.\n",
    "        return abs(state - goal_state)\n",
    "\n",
    "if __name__ == \"__main__\":\n",
    "    # Define your graph and heuristic values here.\n",
    "    graph = {\n",
    "        1: [2, 3],\n",
    "        2: [4, 5],\n",
    "        3: [6, 7],\n",
    "        4: [8, 9],\n",
    "        5: [10, 11],\n",
    "        6: [12, 13],\n",
    "        # Add more connections as needed\n",
    "    }\n",
    "\n",
    "    initial_state = 1\n",
    "    goal_state = 10\n",
    "\n",
    "    problem = Problem(graph)\n",
    "    result = hill_climbing(problem, initial_state, goal_state)\n",
    "\n",
    "    if result == \"Failure: Goal state not reached\":\n",
    "        print(result)\n",
    "    else:\n",
    "        print(\"Local Maximum Reached:\", result)\n"
   ]
  },
  {
   "cell_type": "code",
   "execution_count": 2,
   "id": "6a12b6b6",
   "metadata": {},
   "outputs": [
    {
     "name": "stdout",
     "output_type": "stream",
     "text": [
      "Failure: Goal state not reached\n"
     ]
    }
   ],
   "source": [
    "import random\n",
    "\n",
    "def hill_climbing(problem, initial_state, goal_state):\n",
    "    current = initial_state\n",
    "    while True:\n",
    "        neighbors = problem.get_successors(current)\n",
    "        if not neighbors:\n",
    "            return \"Failure: Goal state not reached\"\n",
    "        \n",
    "        neighbor = max(neighbors, key=lambda state: problem.heuristic(state, goal_state))\n",
    "        \n",
    "        if problem.heuristic(neighbor, goal_state) <= problem.heuristic(current, goal_state):\n",
    "            return \"Failure: Goal state not reached\"\n",
    "        \n",
    "        current = neighbor\n",
    "\n",
    "class Problem:\n",
    "    def __init__(self, graph):\n",
    "        self.graph = graph\n",
    "    \n",
    "    def get_successors(self, state):\n",
    "        return self.graph[state]\n",
    "    \n",
    "    def heuristic(self, state, goal_state):\n",
    "        # In this example, the heuristic is simply the distance to the goal state.\n",
    "        return abs(state - goal_state)\n",
    "\n",
    "if __name__ == \"__main__\":\n",
    "    # Define your graph and heuristic values here.\n",
    "    graph = {\n",
    "        1: [2, 3],\n",
    "        2: [4, 5],\n",
    "        3: [6, 7],\n",
    "        4: [8, 9],\n",
    "        5: [10, 11],\n",
    "        6: [12, 13],\n",
    "        # Add more connections as needed\n",
    "    }\n",
    "\n",
    "    initial_state = 1\n",
    "    goal_state = 14  # Set a goal state that cannot be reached\n",
    "\n",
    "    problem = Problem(graph)\n",
    "    result = hill_climbing(problem, initial_state, goal_state)\n",
    "\n",
    "    print(result)  # Output will be \"Failure: Goal state not reached\""
   ]
  }
 ],
 "metadata": {
  "kernelspec": {
   "display_name": "Python 3",
   "language": "python",
   "name": "python3"
  },
  "language_info": {
   "codemirror_mode": {
    "name": "ipython",
    "version": 3
   },
   "file_extension": ".py",
   "mimetype": "text/x-python",
   "name": "python",
   "nbconvert_exporter": "python",
   "pygments_lexer": "ipython3",
   "version": "3.8.8"
  }
 },
 "nbformat": 4,
 "nbformat_minor": 5
}
