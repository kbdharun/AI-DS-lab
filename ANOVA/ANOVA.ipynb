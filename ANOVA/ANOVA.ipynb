{
 "cells": [
  {
   "cell_type": "code",
   "execution_count": 2,
   "id": "d4939e28-bafd-458a-90a1-65a415084936",
   "metadata": {
    "tags": []
   },
   "outputs": [],
   "source": [
    "import pandas as pd\n",
    "import numpy as np"
   ]
  },
  {
   "cell_type": "code",
   "execution_count": 3,
   "id": "85bfe070-27f7-43ca-9355-951c453331f3",
   "metadata": {
    "tags": []
   },
   "outputs": [],
   "source": [
    "df=pd.read_csv('anova_data.csv')"
   ]
  },
  {
   "cell_type": "code",
   "execution_count": 4,
   "id": "7e6905f5-88fd-4811-83b0-ec974a5cf0ec",
   "metadata": {
    "tags": []
   },
   "outputs": [
    {
     "data": {
      "text/html": [
       "<div>\n",
       "<style scoped>\n",
       "    .dataframe tbody tr th:only-of-type {\n",
       "        vertical-align: middle;\n",
       "    }\n",
       "\n",
       "    .dataframe tbody tr th {\n",
       "        vertical-align: top;\n",
       "    }\n",
       "\n",
       "    .dataframe thead th {\n",
       "        text-align: right;\n",
       "    }\n",
       "</style>\n",
       "<table border=\"1\" class=\"dataframe\">\n",
       "  <thead>\n",
       "    <tr style=\"text-align: right;\">\n",
       "      <th></th>\n",
       "      <th>A</th>\n",
       "      <th>B</th>\n",
       "      <th>C</th>\n",
       "    </tr>\n",
       "  </thead>\n",
       "  <tbody>\n",
       "    <tr>\n",
       "      <th>0</th>\n",
       "      <td>10.0</td>\n",
       "      <td>8.0</td>\n",
       "      <td>9</td>\n",
       "    </tr>\n",
       "    <tr>\n",
       "      <th>1</th>\n",
       "      <td>9.0</td>\n",
       "      <td>9.0</td>\n",
       "      <td>8</td>\n",
       "    </tr>\n",
       "    <tr>\n",
       "      <th>2</th>\n",
       "      <td>8.0</td>\n",
       "      <td>10.0</td>\n",
       "      <td>7</td>\n",
       "    </tr>\n",
       "    <tr>\n",
       "      <th>3</th>\n",
       "      <td>7.5</td>\n",
       "      <td>8.0</td>\n",
       "      <td>10</td>\n",
       "    </tr>\n",
       "    <tr>\n",
       "      <th>4</th>\n",
       "      <td>8.5</td>\n",
       "      <td>8.5</td>\n",
       "      <td>9</td>\n",
       "    </tr>\n",
       "    <tr>\n",
       "      <th>5</th>\n",
       "      <td>9.0</td>\n",
       "      <td>7.0</td>\n",
       "      <td>8</td>\n",
       "    </tr>\n",
       "    <tr>\n",
       "      <th>6</th>\n",
       "      <td>10.0</td>\n",
       "      <td>9.5</td>\n",
       "      <td>7</td>\n",
       "    </tr>\n",
       "    <tr>\n",
       "      <th>7</th>\n",
       "      <td>8.0</td>\n",
       "      <td>9.0</td>\n",
       "      <td>10</td>\n",
       "    </tr>\n",
       "    <tr>\n",
       "      <th>8</th>\n",
       "      <td>8.0</td>\n",
       "      <td>7.0</td>\n",
       "      <td>9</td>\n",
       "    </tr>\n",
       "    <tr>\n",
       "      <th>9</th>\n",
       "      <td>9.0</td>\n",
       "      <td>10.0</td>\n",
       "      <td>8</td>\n",
       "    </tr>\n",
       "  </tbody>\n",
       "</table>\n",
       "</div>"
      ],
      "text/plain": [
       "      A     B   C\n",
       "0  10.0   8.0   9\n",
       "1   9.0   9.0   8\n",
       "2   8.0  10.0   7\n",
       "3   7.5   8.0  10\n",
       "4   8.5   8.5   9\n",
       "5   9.0   7.0   8\n",
       "6  10.0   9.5   7\n",
       "7   8.0   9.0  10\n",
       "8   8.0   7.0   9\n",
       "9   9.0  10.0   8"
      ]
     },
     "execution_count": 4,
     "metadata": {},
     "output_type": "execute_result"
    }
   ],
   "source": [
    "df.head(10)"
   ]
  },
  {
   "cell_type": "code",
   "execution_count": 5,
   "id": "582e7190-effc-434d-92d5-5a10eaacef48",
   "metadata": {
    "tags": []
   },
   "outputs": [],
   "source": [
    "A=df['A'].to_numpy()\n",
    "B=df['B'].to_numpy()\n",
    "C=df['C'].to_numpy()"
   ]
  },
  {
   "cell_type": "code",
   "execution_count": 6,
   "id": "160a50b9-2eef-42b2-9576-1ee1c019fb43",
   "metadata": {
    "tags": []
   },
   "outputs": [],
   "source": [
    "population=[*A,*B,*C]\n",
    "population=np.array(population)"
   ]
  },
  {
   "cell_type": "code",
   "execution_count": 8,
   "id": "5c9fe5c0-4825-416c-ac7c-2ed314b3fe12",
   "metadata": {
    "tags": []
   },
   "outputs": [
    {
     "data": {
      "text/plain": [
       "8.7"
      ]
     },
     "execution_count": 8,
     "metadata": {},
     "output_type": "execute_result"
    }
   ],
   "source": [
    "mean_A=A.mean()\n",
    "mean_A"
   ]
  },
  {
   "cell_type": "code",
   "execution_count": 9,
   "id": "5258b314-effc-484b-9f84-030f8c778bd4",
   "metadata": {
    "tags": []
   },
   "outputs": [
    {
     "data": {
      "text/plain": [
       "8.6"
      ]
     },
     "execution_count": 9,
     "metadata": {},
     "output_type": "execute_result"
    }
   ],
   "source": [
    "mean_B=B.mean()\n",
    "mean_B"
   ]
  },
  {
   "cell_type": "code",
   "execution_count": 10,
   "id": "4bdad60e-1bdf-4793-9bff-dd3b1904b4eb",
   "metadata": {
    "tags": []
   },
   "outputs": [
    {
     "data": {
      "text/plain": [
       "8.5"
      ]
     },
     "execution_count": 10,
     "metadata": {},
     "output_type": "execute_result"
    }
   ],
   "source": [
    "mean_C=C.mean()\n",
    "mean_C"
   ]
  },
  {
   "cell_type": "code",
   "execution_count": 14,
   "id": "9003b356-008b-43f1-a149-8bd720f867b5",
   "metadata": {
    "tags": []
   },
   "outputs": [
    {
     "data": {
      "text/plain": [
       "8.6"
      ]
     },
     "execution_count": 14,
     "metadata": {},
     "output_type": "execute_result"
    }
   ],
   "source": [
    "mean_X=population.mean()\n",
    "mean_X"
   ]
  },
  {
   "cell_type": "code",
   "execution_count": 15,
   "id": "ef246af4-200f-408a-b4ab-52682823bfdb",
   "metadata": {
    "tags": []
   },
   "outputs": [
    {
     "data": {
      "text/plain": [
       "[8.7, 8.6, 8.5]"
      ]
     },
     "execution_count": 15,
     "metadata": {},
     "output_type": "execute_result"
    }
   ],
   "source": [
    "mean_all=[mean_A,mean_B,mean_C]\n",
    "mean_all"
   ]
  },
  {
   "cell_type": "code",
   "execution_count": 17,
   "id": "825b7573-2e7c-49ac-ab73-903fdc564590",
   "metadata": {
    "tags": []
   },
   "outputs": [
    {
     "name": "stdout",
     "output_type": "stream",
     "text": [
      "0.2\n"
     ]
    }
   ],
   "source": [
    "# between group\n",
    "n=len(A)\n",
    "variance_btw_grp=0\n",
    "for x in mean_all:\n",
    "    variance_btw_grp+=n*(x-mean_X)**2\n",
    "var_btw_grp=round(variance_btw_grp,2)\n",
    "print(var_btw_grp)"
   ]
  },
  {
   "cell_type": "code",
   "execution_count": 21,
   "id": "420d6740-c0e1-4eaf-9ce0-61f5d7bdc76e",
   "metadata": {
    "tags": []
   },
   "outputs": [
    {
     "name": "stdout",
     "output_type": "stream",
     "text": [
      "0.09 1.96 0.25\n"
     ]
    }
   ],
   "source": [
    "def variance(a,mean_X):\n",
    "    var=0\n",
    "    for x in a:\n",
    "        var=(x-mean_X)**2\n",
    "    return var\n",
    "var_A=round(variance(A,mean_A),2)\n",
    "var_B=round(variance(B,mean_B),2)\n",
    "var_C=round(variance(C,mean_C),2)\n",
    "print(var_A,var_B,var_C)"
   ]
  },
  {
   "cell_type": "code",
   "execution_count": 24,
   "id": "6c667729-350b-4cfb-bb34-7ed0d17798c4",
   "metadata": {
    "tags": []
   },
   "outputs": [
    {
     "name": "stdout",
     "output_type": "stream",
     "text": [
      "Anova value:  0.08695652173913045\n",
      "Accept null hypothesis\n"
     ]
    }
   ],
   "source": [
    "var_within_grp=var_A+var_B+var_C\n",
    "Anova=var_btw_grp/var_within_grp\n",
    "print(\"Anova value: \", Anova)\n",
    "\n",
    "if Anova<1:\n",
    "    print('Accept null hypothesis')\n",
    "else:\n",
    "    print('Reject null hypotheses')"
   ]
  }
 ],
 "metadata": {
  "kernelspec": {
   "display_name": "Python 3 (ipykernel)",
   "language": "python",
   "name": "python3"
  },
  "language_info": {
   "codemirror_mode": {
    "name": "ipython",
    "version": 3
   },
   "file_extension": ".py",
   "mimetype": "text/x-python",
   "name": "python",
   "nbconvert_exporter": "python",
   "pygments_lexer": "ipython3",
   "version": "3.10.12"
  }
 },
 "nbformat": 4,
 "nbformat_minor": 5
}
